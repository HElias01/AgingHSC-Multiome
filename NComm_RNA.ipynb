{
 "cells": [
  {
   "cell_type": "markdown",
   "id": "4c9eef89",
   "metadata": {},
   "source": [
    "# Scripts for reproducibility of RNA analysis \n",
    "# Figures 1 and S2 <br />\n",
    "\n",
    "## Step1: Read \"HSC_multiome_cleanup_lognorm_young.h5ad\"\n",
    "## Step2: Processing with scanpy pipeline <br />"
   ]
  },
  {
   "cell_type": "markdown",
   "id": "634cb2c0",
   "metadata": {},
   "source": [
    "## Figures S2A-S2D"
   ]
  },
  {
   "cell_type": "raw",
   "id": "90c935fd",
   "metadata": {},
   "source": [
    "sc.set_figure_params(dpi=80, dpi_save=300, color_map='viridis', vector_friendly=True, transparent=True)\n",
    "sc.pl.umap(\n",
    "    adata, \n",
    "    color=[ 'sample', 'leiden_1.5','cell_type_subset'], \n",
    "    color_map='Spectral_r', \n",
    "    use_raw=False,    \n",
    "    ncols=5,\n",
    "    wspace = 0.5,\n",
    "    outline_width=[0.6, 0.05],\n",
    "    size=15,\n",
    "    frameon=False,\n",
    "    add_outline=True,\n",
    "    sort_order = False,\n",
    ")"
   ]
  },
  {
   "cell_type": "raw",
   "id": "81024c30",
   "metadata": {},
   "source": [
    "sc.tl.rank_genes_groups(adata, groupby = 'cell_type_subset',use_raw=False, method='wilcoxon', key_added='rank_genes_groups_HSC_subtype')\n",
    "sc.pl.rank_genes_groups(adata,n_genes=25, sharey=False, key = 'rank_genes_groups_HSC_subtype')"
   ]
  },
  {
   "cell_type": "raw",
   "id": "e28fae57",
   "metadata": {},
   "source": [
    "sc.pl.rank_genes_groups_dotplot(adata, groupby='cell_type_subset', vmin=-1, vmax=1, cmap='RdBu_r', layer='scaled', key='rank_genes_groups_HSC_subtype', n_genes=5, colorbar_title=\"mean z-score\", swap_axes=True, dendrogram=False)"
   ]
  },
  {
   "cell_type": "raw",
   "id": "b92a96e4",
   "metadata": {},
   "source": [
    "adata.obs['cell_type_subset'].replace('HSC1','q-HSC', inplace=True)\n",
    "adata.obs['cell_type_subset'].replace('HSC2','Mgk-HSC', inplace=True)\n",
    "adata.obs['cell_type_subset'].replace('HSC3','MLin-HSC', inplace=True)\n",
    "adata.obs['cell_type_subset'].replace('HSC4','p-HSC', inplace=True)\n",
    "adata.obs['cell_type_subset'].replace('HSC5','Int-HSC', inplace=True)"
   ]
  },
  {
   "cell_type": "markdown",
   "id": "7ac9bd14",
   "metadata": {},
   "source": [
    "## MAST analysis: Figure 1A"
   ]
  },
  {
   "cell_type": "raw",
   "id": "cca77569",
   "metadata": {},
   "source": [
    "import rpy2\n",
    "import os\n",
    "os.environ['R_HOME'] = '/Library/Frameworks/R.framework/Resources'\n",
    "os.environ['R_USER'] = '/Library/Frameworks/R.framework/Resources'\n"
   ]
  },
  {
   "cell_type": "raw",
   "id": "dfffa02a",
   "metadata": {},
   "source": [
    "import anndata2ri"
   ]
  },
  {
   "cell_type": "raw",
   "id": "dbe1af2c",
   "metadata": {},
   "source": [
    "# anndata2ri interconverts AnnData and Single Cell Experiment objects\n",
    "anndata2ri.activate()\n",
    "%load_ext rpy2.ipython\n",
    "#%reload_ext rpy2.ipython"
   ]
  },
  {
   "cell_type": "raw",
   "id": "d263a7b0",
   "metadata": {
    "collapsed": true,
    "jupyter": {
     "outputs_hidden": true
    }
   },
   "source": [
    "%%R\n",
    "if (!require(\"BiocManager\", quietly = TRUE))\n",
    "    install.packages(\"BiocManager\")\n",
    "\n",
    "BiocManager::install(\"MAST\")"
   ]
  },
  {
   "cell_type": "raw",
   "id": "5d34619b",
   "metadata": {},
   "source": [
    "adata.X = adata.X.astype('float64')\n",
    "# remember to convert ndarray 'float32'/ compressed sparse column format to 'float64' (IMP !!!)"
   ]
  },
  {
   "cell_type": "raw",
   "id": "d33b7626",
   "metadata": {},
   "source": [
    "sce_v2 = sc.AnnData(X = adata.X, \n",
    "                 obs = pd.DataFrame({'Cluster_label': adata.obs['cell_type_subset'].astype('str')}, ## choose appropriate astype based on datatype in your column\n",
    "                                    index = adata.obs.index),\n",
    "                 var = pd.DataFrame(index = adata.var.index))"
   ]
  },
  {
   "cell_type": "raw",
   "id": "6aa1284f",
   "metadata": {
    "scrolled": true
   },
   "source": [
    "sce_v2.X"
   ]
  },
  {
   "cell_type": "raw",
   "id": "887cc7b7",
   "metadata": {
    "scrolled": true
   },
   "source": [
    "sce_v2.X=sce_v2.X.toarray()# remember to convert compressed sparse column format to array (IMP !!!)"
   ]
  },
  {
   "cell_type": "raw",
   "id": "3ab36088",
   "metadata": {},
   "source": [
    "sce_v2.X = sce_v2.X.astype('float64')# remember to convert float32 to float64 (IMP !!!)"
   ]
  },
  {
   "cell_type": "raw",
   "id": "ca5390b4",
   "metadata": {},
   "source": [
    "%%capture\n",
    "%R library(scuttle)\n",
    "%R library(scran)\n",
    "%R library(MAST)\n",
    "%R library(data.table)"
   ]
  },
  {
   "cell_type": "raw",
   "id": "572908d7",
   "metadata": {},
   "source": [
    "# -i implies we are supplying sce_v2 as an input to R\n",
    "%R -i sce_v2"
   ]
  },
  {
   "cell_type": "raw",
   "id": "318b9d29",
   "metadata": {
    "scrolled": true
   },
   "source": [
    "# set up a single cell experiment object in R, using the data stored in 'X' in sce anndata object\n",
    "%R counts(sce_v2) <- assay(sce_v2, \"X\"); \n",
    "print(\"Finished Setup\")"
   ]
  },
  {
   "cell_type": "raw",
   "id": "742dc189",
   "metadata": {
    "scrolled": true
   },
   "source": [
    "%R assay(sce_v2)"
   ]
  },
  {
   "cell_type": "raw",
   "id": "1b0fe5ae",
   "metadata": {},
   "source": [
    "# For illustration, we will show how to run MAST to compare cluster HSC3(MLIn-HSC) with HSC1(q-HSC):\n",
    "\n",
    "# identify cells belonging to cluster HSC3:\n",
    "%R id_cells_HSC3 <- which(colData(sce_v2)$Cluster_label == 'HSC3')\n",
    "\n",
    "# identify cells belonging to cluster HSC1: (i.e. not in Cluster 0):\n",
    "%R id_cells_HSC1 <- which(colData(sce_v2)$Cluster_label == 'HSC1')\n",
    "\n",
    "# Check the length of the two sets\n",
    "%R print(length(id_cells_HSC3))\n",
    "%R print(length(id_cells_HSC1))\n",
    "\n",
    "# Create two dataframes: one with cells from C0 and one with rest of the cells\n",
    "%R df1 <- t(data.frame(counts(sce_v2)[, id_cells_HSC3])) # transpose because in sce genes are rows\n",
    "%R df2 <- t(data.frame(counts(sce_v2)[, id_cells_HSC1])) # transpose because in sce genes are rows\n",
    "\n",
    "# We will use the function provided:\n",
    "%R source(\"/Users/eliash/Downloads/run_MAST.r\")\n",
    "\n",
    "# Syntax: %R pairwise_de(dataframe1, dataframe2, 'output_filename', 'output_folder')\n",
    "# The output will be automatically saved as a csv file in the output_folder with output_filename"
   ]
  },
  {
   "cell_type": "raw",
   "id": "15264e3f",
   "metadata": {},
   "source": [
    "# load MAST results:\n",
    "mast_results = pd.read_csv('/.csv',index_col = 0)\n",
    "mast_results.head()\n",
    "df_new = pd.DataFrame({'logfoldchange': mast_results['coef'].values, 'pvalues': mast_results['fdr'].values}, index = mast_results['primerid'])"
   ]
  },
  {
   "cell_type": "raw",
   "id": "f7ef5629",
   "metadata": {},
   "source": [
    "#HSC3vsHSC1 <- read csv file \n",
    "#HSC3vsHSC1$Significant <- ifelse(HSC3vsHSC1$log.fdr >10 & HSC3vsHSC1$coef> 0.25, \"HSC3\", ifelse(HSC3vsHSC1$log.fdr >10 & HSC3vsHSC1$coef< -0.25 , \"HSC1\", \"Not Sig\"))\n",
    "#genes_highlight <- c('Kit','Hlf','Cd244a','Ly9', 'Pdzk1ip1','Hlf', 'Neo1', 'Hoxb5',  'Procr')"
   ]
  },
  {
   "cell_type": "raw",
   "id": "c5021214",
   "metadata": {},
   "source": [
    "p1<- ggplot(HSC3vsHSC1, aes(x = coef, y = log.fdr),) + geom_point(aes(color = Significant)) + scale_color_manual(values = c( \"#16FF32\", \"#3283FE\", \"gray\")) + \n",
    "scale_x_continuous(name=\"Log2FC\", limits=c(-1.5, 1.5))+\n",
    "scale_y_continuous(name = \"-log10(pvalues)\", limits=c(0, 200)) +\n",
    "geom_text_repel (data = subset(HSC3vsHSC1, primerid %in% genes_highlight), aes(label = primerid),size = 7.5, fontface = \"bold.italic\", box.padding = unit(0.35, \"lines\"), point.padding = unit(0.5, \"lines\")) +\n",
    "theme_bw()"
   ]
  },
  {
   "cell_type": "raw",
   "id": "37cf9da1",
   "metadata": {},
   "source": [
    "p1<- p1+ theme(axis.text = element_text(size = 20, face=\"bold\", color = \"black\"),\n",
    "            plot.margin = margin(0.5,0.5,0.5,0.5, unit = \"cm\"),\n",
    "            axis.line.x = element_line(color = \"black\"),\n",
    "            axis.line.y = element_line(color = \"black\"),\n",
    "            legend.text = element_text(size = 20),\n",
    "            legend.position = \"bottom\",\n",
    "            axis.title.x = element_text(size = 20, face = \"bold\", color =\"black\"),\n",
    "            axis.title.y = element_text(size = 20, face = \"bold\", color = \"black\"),\n",
    "            panel.grid.major = element_line(color = \"gray\", linetype = \"solid\"),\n",
    "            panel.grid.minor = element_blank())\n",
    "            \n",
    "#ggsave(paste0(outbase, 'DEG_HSC3_vs_HSC1_volcanoplot.pdf'), p1, dpi = 300)\n",
    "p1"
   ]
  },
  {
   "cell_type": "markdown",
   "id": "8173845f",
   "metadata": {},
   "source": [
    "## For defining KIT subsets "
   ]
  },
  {
   "cell_type": "raw",
   "id": "97da6975",
   "metadata": {},
   "source": [
    "import magic\n",
    "magic_op = magic.MAGIC()\n",
    "magic_op.set_params(knn=5, t=4)"
   ]
  },
  {
   "cell_type": "raw",
   "id": "4118c420",
   "metadata": {},
   "source": [
    "genes = ['Kit', 'Cd244a','Ly9', 'Pdzk1ip1','Hlf', 'Neo1', 'Hoxb5',  'Procr']"
   ]
  },
  {
   "cell_type": "raw",
   "id": "9fe31929",
   "metadata": {},
   "source": [
    "adata_magic.obs['kit_time'] = pd.DataFrame(adata_magic.X, columns=adata_magic.var.index)['Kit'].values"
   ]
  },
  {
   "cell_type": "markdown",
   "id": "387d767e",
   "metadata": {},
   "source": [
    "## Figure 1B"
   ]
  },
  {
   "cell_type": "raw",
   "id": "0d221c87",
   "metadata": {},
   "source": [
    "sc.pl.violin(adata_magic,['Kit'], groupby='cell_type_subset', standard_scale='var',colorbar_title=\"mean expression\", swap_axes=True) ## Figure 1B"
   ]
  },
  {
   "cell_type": "raw",
   "id": "43329379",
   "metadata": {
    "scrolled": true
   },
   "source": [
    "kit_young = adata.obs['kit_time'].values\n",
    "#kit_young_array= kit_young.values\n",
    "kit_young"
   ]
  },
  {
   "cell_type": "raw",
   "id": "e05967bc",
   "metadata": {},
   "source": [
    "percentile_20 = np.percentile(kit_young, 20)\n",
    "percentile_80 = np.percentile(kit_young, 80)"
   ]
  },
  {
   "cell_type": "raw",
   "id": "4ef71934",
   "metadata": {},
   "source": [
    "kit_all = adata.obs['kit_time'].values"
   ]
  },
  {
   "cell_type": "raw",
   "id": "669c9e2f",
   "metadata": {},
   "source": [
    "kit_id_magic_20 = [None]*adata.shape[0]\n",
    "for j, expression_value in enumerate(kit_all):\n",
    "    if   expression_value < percentile_20:\n",
    "        kit_id_magic_20[j] = \"Low\"\n",
    "    elif expression_value <= percentile_80:\n",
    "        kit_id_magic_20[j] = \"Mid\"\n",
    "    else:\n",
    "        kit_id_magic_20[j] = \"High\""
   ]
  },
  {
   "cell_type": "raw",
   "id": "72c98e0d",
   "metadata": {},
   "source": [
    "adata.obs['kit_id_magic_20'] = kit_id_magic_20  "
   ]
  },
  {
   "cell_type": "markdown",
   "id": "15bae5ff",
   "metadata": {},
   "source": [
    "## Figure S2E"
   ]
  },
  {
   "cell_type": "raw",
   "id": "ee323819",
   "metadata": {},
   "source": [
    " crosstb = pd.crosstab(adata.obs['kit_id_magic_20'], adata.obs['cell_type_subset'],normalize='index')\n",
    "diffcrosstb = ((crosstb.loc[\"Low\"] - crosstb.loc[\"High\"]) / (crosstb.loc[\"Low\"] + crosstb.loc[\"High\"]))*100"
   ]
  },
  {
   "cell_type": "raw",
   "id": "4f747078",
   "metadata": {},
   "source": [
    "subset_palette = ['#FEAF16','#16FF32','#D3D3D3','#F6222E', '#3283FE']\n",
    "with rc_context({'figure.figsize': (2, 3)}):\n",
    "    ax = diffcrosstb.sort_values(ascending=True).plot(kind=\"barh\", stacked=True, edgecolor = \"black\", color=subset_palette)\n",
    "    ax.grid(False)\n",
    "    ax.add_artist(lines.Line2D([0,0], [0,100], color='black',  lw=1,  ls='--'))\n",
    "    #ax.plot(legend=None)\n",
    "    #plt.savefig('figures/Young-Kit_delta.pdf', bbox_inches='tight')"
   ]
  },
  {
   "cell_type": "markdown",
   "id": "01d0b74e",
   "metadata": {},
   "source": [
    "## Figure 1C"
   ]
  },
  {
   "cell_type": "raw",
   "id": "cc911a58",
   "metadata": {},
   "source": [
    "crosstb = pd.crosstab(adata.obs[(adata.obs['kit_id_magic_20']=='High') | (adata.obs['kit_id_magic_20']=='Low')]['kit_id_magic_20'], adata.obs['cell_type_subset'], normalize='index')"
   ]
  },
  {
   "cell_type": "raw",
   "id": "3eddda17",
   "metadata": {},
   "source": [
    "with rc_context({'figure.figsize': (2,3)}):\n",
    "    ax = crosstb.plot(kind=\"bar\", stacked=True, edgecolor = \"black\", color=['#F6222E', '#16FF32', '#3283FE', '#FEAF16', '#D3D3D3'])\n",
    "    ax.grid(False)\n",
    "    ax.legend(loc='center left', bbox_to_anchor=(1, 0.5))\n",
    "    #ax.add_artist(lines.Line2D([0,0], [0,100], color='black',  lw=1,  ls='--'))\n",
    "    #ax.plot(legend=None)\n",
    "    #plt.savefig('figures/Young-Kit_proportions.pdf', bbox_inches='tight')"
   ]
  },
  {
   "cell_type": "markdown",
   "id": "b55406d2",
   "metadata": {},
   "source": [
    "## Figure S2H: INGEST Analysis (for HSC subset annotation of Old HSCs) \n",
    "\n",
    "## Step 3: Read \"HSC_multiome_cleanup_lognorm_083123.h5ad\" file"
   ]
  },
  {
   "cell_type": "raw",
   "id": "a07392bb",
   "metadata": {},
   "source": [
    "id_old = np.where(np.isin(adata_integrated.obs['sample'], ['HSC-1570_Old', 'HSC-1536_Old']))[0]"
   ]
  },
  {
   "cell_type": "raw",
   "id": "c769b217",
   "metadata": {},
   "source": [
    "adata_old = sc.AnnData(adata_integrated.X[id_old, :], \n",
    "                         obs = adata_integrated.obs.iloc[id_old, :], \n",
    "                        var = adata_integrated.var)\n",
    "adata_old.obsm['X_pca'] = adata_integrated.obsm['X_pca'][id_old, :]"
   ]
  },
  {
   "cell_type": "raw",
   "id": "b0965ca2",
   "metadata": {},
   "source": [
    "adata_old.obs['sample'] = adata_old.obs['sample'].cat.remove_categories(['HSC-1570_Young', 'HSC-1536_Young'])"
   ]
  },
  {
   "cell_type": "raw",
   "id": "d3d4ed9f",
   "metadata": {},
   "source": [
    "sc.external.pp.harmony_integrate(adata_old, key = 'sample', basis = 'X_pca', adjusted_basis = 'old_harmony')"
   ]
  },
  {
   "cell_type": "raw",
   "id": "d303f50f",
   "metadata": {},
   "source": [
    "adata_old.obsm"
   ]
  },
  {
   "cell_type": "raw",
   "id": "527f9607",
   "metadata": {},
   "source": [
    "sc.pp.neighbors(adata_old, n_neighbors=15, use_rep='old_harmony')"
   ]
  },
  {
   "cell_type": "raw",
   "id": "bb10bbdd",
   "metadata": {
    "scrolled": true
   },
   "source": [
    "sc.tl.umap(adata_old, min_dist=0.3)"
   ]
  },
  {
   "cell_type": "raw",
   "id": "d5c6e39f",
   "metadata": {},
   "source": [
    "adata_old.uns['age_colors'] = adata_integrated.uns['age_colors']\n",
    "adata_old.uns['sample_colors'] = adata_integrated.uns['sample_colors']"
   ]
  },
  {
   "cell_type": "raw",
   "id": "55d95428",
   "metadata": {},
   "source": [
    "sc.set_figure_params(dpi=80, dpi_save=300, color_map='viridis', vector_friendly=False, transparent=True)\n",
    "sc.pl.umap(\n",
    "    adata_old, \n",
    "    color=['age', 'sample'], \n",
    "    color_map='Spectral_r', \n",
    "    use_raw=False,\n",
    "    ncols=3,\n",
    "    wspace = 0.3,\n",
    "    outline_width=[0.6, 0.05],\n",
    "    size=15,\n",
    "    frameon=False,\n",
    "    add_outline=True,\n",
    "    sort_order = False\n",
    ")"
   ]
  },
  {
   "cell_type": "raw",
   "id": "7242a15c",
   "metadata": {},
   "source": [
    "var_names = adata.var_names.intersection(adata_old.var_names)\n",
    "adata = adata[:, var_names]\n",
    "adata_old = adata_old[:, var_names]"
   ]
  },
  {
   "cell_type": "raw",
   "id": "792e2757",
   "metadata": {},
   "source": [
    "sc.tl.ingest(adata_old, adata, embedding_method= 'umap', obs=\"cell_type_subset\")"
   ]
  },
  {
   "cell_type": "raw",
   "id": "c72b168e",
   "metadata": {},
   "source": [
    "sc.set_figure_params(dpi=80, dpi_save=300, color_map='viridis', vector_friendly=False, transparent=True)\n",
    "sc.pl.umap(\n",
    "    adata_old, \n",
    "    color=['cell_type_subset'], \n",
    "    color_map='Spectral_r', \n",
    "    use_raw=False,\n",
    "    ncols=3,\n",
    "    wspace = 0.3,\n",
    "    outline_width=[0.6, 0.05],\n",
    "    size=15,\n",
    "    frameon=False,\n",
    "    add_outline=True,\n",
    "    sort_order = False\n",
    ")"
   ]
  },
  {
   "cell_type": "markdown",
   "id": "4fdb8634",
   "metadata": {},
   "source": [
    "## Figure S2J"
   ]
  },
  {
   "cell_type": "raw",
   "id": "f36d2c1e",
   "metadata": {},
   "source": [
    "import matplotlib.lines as lines"
   ]
  },
  {
   "cell_type": "raw",
   "id": "9f285eae",
   "metadata": {},
   "source": [
    "crosstb = pd.crosstab(adata_integrated.obs['age'], adata_integrated.obs['cell_type_subset'], normalize='index')\n",
    "diffcrosstb = ((crosstb.loc[\"young\"] - crosstb.loc[\"old\"]) / (crosstb.loc[\"young\"] + crosstb.loc[\"old\"]))*100"
   ]
  },
  {
   "cell_type": "raw",
   "id": "bec489bc",
   "metadata": {},
   "source": [
    "subset_palette = ['#F6222E','#16FF32','#FEAF16','#D3D3D3', '#3283FE']\n",
    "with rc_context({'figure.figsize': (2, 3)}):\n",
    "    ax = diffcrosstb.sort_values(ascending=True).plot(kind=\"barh\", stacked=True, edgecolor = \"black\", color=subset_palette)\n",
    "    ax.grid(False)\n",
    "    ax.add_artist(lines.Line2D([0,0], [0,100], color='black',  lw=1,  ls='--'))\n",
    "    #ax.plot(legend=None)\n",
    "    #plt.savefig('figures/age_delta.pdf', bbox_inches='tight')"
   ]
  },
  {
   "cell_type": "markdown",
   "id": "d8800f8e",
   "metadata": {},
   "source": [
    "## Figures S2I, 1D-1E"
   ]
  },
  {
   "cell_type": "raw",
   "id": "8eb3a2f0",
   "metadata": {},
   "source": [
    "sc.set_figure_params(dpi=80, dpi_save=300, color_map='viridis', vector_friendly=True, transparent=True)\n",
    "sc.pl.umap(\n",
    "    adata, \n",
    "    color=['age', 'sample', 'cell_type_subset'], \n",
    "    color_map='Spectral_r', \n",
    "    use_raw=False, \n",
    "    ncols=5,\n",
    "    wspace = 0.3,\n",
    "    outline_width=[0.6, 0.05],\n",
    "    size=15,\n",
    "    frameon=False,\n",
    "    add_outline=True,\n",
    "    sort_order = False\n",
    ")"
   ]
  },
  {
   "cell_type": "markdown",
   "id": "c9a9bc7b",
   "metadata": {},
   "source": [
    "## Figure 1G-1I"
   ]
  },
  {
   "cell_type": "raw",
   "id": "a898c07f",
   "metadata": {},
   "source": [
    "#post magic imputation \n",
    "import scvelo as scv\n",
    "sc.set_figure_params(dpi=80, dpi_save=300, vector_friendly=True, transparent=True)\n",
    "scv.pl.heatmap(adata_magic, var_names=['Pdzk1ip1','Hlf','Neo1','Cd244a', 'Hoxb5', 'Procr', 'Ly9', 'Kit'], sortby='kit_time', color_map='RdBu_r', col_color='age', colorbar =True, n_convolve=100, figsize=(8,6))\n",
    "sc.pl.violin(adata_magic, ['Kit'], groupby='age', rotation=90, jitter=False)"
   ]
  },
  {
   "cell_type": "markdown",
   "id": "e479e5c2",
   "metadata": {},
   "source": [
    "## Figure S2M"
   ]
  },
  {
   "cell_type": "raw",
   "id": "4b9d09f6",
   "metadata": {},
   "source": [
    "# Filter cells based on age metadata\n",
    "young_cells = adata[adata.obs['age'] == 'young']\n",
    "old_cells = adata[adata.obs['age'] == 'old']\n",
    "\n",
    "# Get the gene expression values for young samples\n",
    "kit_young = young_cells.obs['kit_time']\n",
    "\n",
    "# Create the KDE plot for young samples\n",
    "sns.kdeplot(data=kit_young, color='blue', fill= True, label='Young', palette='Blues')\n",
    "\n",
    "\n",
    "# Get the gene expression values for old samples\n",
    "kit_old = old_cells.obs['kit_time']\n",
    "\n",
    "# Create the KDE plot for old samples\n",
    "sns.kdeplot(data=kit_old, color='red', fill= True, label='Old',palette='Reds' )\n",
    "\n",
    "# Add labels and title to the plot\n",
    "plt.xlabel('Expression Level')\n",
    "plt.ylabel('Density')\n",
    "plt.title(f'Kit Colored by Age')\n",
    "\n",
    "# Remove the right and top spines\n",
    "sns.despine()\n",
    "\n",
    "# Remove gridlines\n",
    "plt.grid(False)\n",
    "\n",
    "# Show the legend\n",
    "plt.legend(title='Age', loc='upper left')\n",
    "\n",
    "#save plot \n",
    "plt.savefig(\"Magic_Kit_Age.pdf\", format=\"pdf\", bbox_inches=\"tight\")\n",
    "\n",
    "# Show the plot\n",
    "plt.show()"
   ]
  },
  {
   "cell_type": "markdown",
   "id": "689e63ac",
   "metadata": {},
   "source": [
    "## Figures S2K-S2L: MiloR Analysis\n",
    "\n",
    "## Same as Step 3"
   ]
  },
  {
   "cell_type": "raw",
   "id": "e86681a3",
   "metadata": {},
   "source": [
    "%%R\n",
    "library(miloR)\n",
    "library(igraph)\n",
    "library(Seurat)\n",
    "library(SingleCellExperiment)\n",
    "library(scater)\n",
    "library(scran)\n",
    "library(dplyr)\n",
    "library(patchwork)\n",
    "library(scuttle)"
   ]
  },
  {
   "cell_type": "raw",
   "id": "0290a66f",
   "metadata": {},
   "source": [
    "adata_no_knn = adata.copy()\n",
    "adata_no_knn.obsp = None\n",
    "adata_no_knn.uns.pop(\"neighbors\")\n",
    "adata_no_knn"
   ]
  },
  {
   "cell_type": "raw",
   "id": "906ee0f6",
   "metadata": {},
   "source": [
    "%%R -i adata_no_knn\n",
    "adata_no_knn"
   ]
  },
  {
   "cell_type": "raw",
   "id": "b915b6fa",
   "metadata": {},
   "source": [
    "%%R \n",
    "milo <- Milo(adata_no_knn)\n",
    "milo"
   ]
  },
  {
   "cell_type": "raw",
   "id": "029010f8",
   "metadata": {},
   "source": [
    "%%R\n",
    "design <- data.frame(colData(milo))[,c(\"sample\", \"age\", \"batch\")]\n",
    "design$batch <- as.factor(design$batch)\n",
    "design <- distinct(design)\n",
    "rownames(design) <- design$sample\n",
    "design"
   ]
  },
  {
   "cell_type": "raw",
   "id": "e9078a65",
   "metadata": {},
   "source": [
    "%%R\n",
    "milo <- buildGraph(milo, k=35, d=15)\n",
    "milo <- makeNhoods(milo, prop = 0.1, k = 35, d=15, refined = TRUE)"
   ]
  },
  {
   "cell_type": "raw",
   "id": "d72dffc5",
   "metadata": {},
   "source": [
    "%%R\n",
    "## Count cells in neighbourhoods\n",
    "milo <- countCells(milo, meta.data = data.frame(colData(milo)), sample=\"sample\")\n",
    "head(nhoodCounts(milo))"
   ]
  },
  {
   "cell_type": "raw",
   "id": "f6f6a5fe",
   "metadata": {},
   "source": [
    "%%R -o DA_results\n",
    "## Test for differential abundance\n",
    "DA_results <- testNhoods(milo, design = ~ age, design.df = design, reduced.dim= \"PCA\")"
   ]
  },
  {
   "cell_type": "raw",
   "id": "209676d7",
   "metadata": {},
   "source": [
    "%%R\n",
    "DA_results %>%\n",
    "  arrange(SpatialFDR) %>%\n",
    "  head()"
   ]
  },
  {
   "cell_type": "raw",
   "id": "3dd25845",
   "metadata": {},
   "source": [
    "plt.plot(DA_results.logFC, -np.log10(DA_results.SpatialFDR), '.');\n",
    "plt.xlabel(\"log-Fold Change\");\n",
    "plt.ylabel(\"- log10(Spatial FDR)\")"
   ]
  },
  {
   "cell_type": "raw",
   "id": "c5eba8b8",
   "metadata": {},
   "source": [
    "%%R\n",
    "milo <- buildNhoodGraph(milo)"
   ]
  },
  {
   "cell_type": "raw",
   "id": "d214f201",
   "metadata": {},
   "source": [
    "%%R -w 600 -h 500\n",
    "p<- plotNhoodGraphDA(milo, DA_results, alpha=0.375, res_column = 'logFC', \n",
    "                 layout=\"UMAP\", size_range = c(2, 8), node_stroke =0.15)\n",
    "outbase = 'directory'\n",
    "ggsave(paste0(outbase, 'milor_R_spatialFDR.pdf'), p, dpi = 100)\n",
    "p"
   ]
  },
  {
   "cell_type": "raw",
   "id": "3ef75afc",
   "metadata": {},
   "source": [
    "%%R \n",
    "DA_results <- annotateNhoods(milo, DA_results, coldata_col = \"cell_type_subset\")\n",
    "head(DA_results)"
   ]
  },
  {
   "cell_type": "raw",
   "id": "d98e2b04",
   "metadata": {},
   "source": [
    "%%R -w 400 -h 400\n",
    "p1<- plotDAbeeswarm(DA_results_HSC, group.by = \"cell_type_subset\", alpha = 0.75)\n",
    "ggsave(paste0(outbase, 'plotDAbeeswarm_subsets.pdf'), p1, dpi = 300)\n",
    "p1"
   ]
  },
  {
   "cell_type": "markdown",
   "id": "2cbe68f2",
   "metadata": {},
   "source": [
    "## Figures S2F-S2G\n",
    "\n",
    "## Step 4: Download GSE243197 dataset"
   ]
  },
  {
   "cell_type": "raw",
   "id": "e2d8ea1d",
   "metadata": {},
   "source": [
    "import muon as mu\n",
    "from muon import prot as pt"
   ]
  },
  {
   "cell_type": "raw",
   "id": "2ddf0928",
   "metadata": {},
   "source": [
    "rna = md.read(\"JEM2023.h5mu/rna\")\n",
    "prot = md.read(\"JEM2023.h5mu/prot\")"
   ]
  },
  {
   "cell_type": "raw",
   "id": "963075db",
   "metadata": {},
   "source": [
    "id_HSC = np.where(np.isin(rna.obs['LSK_clusters'], ['c1', 'c3','c7']))[0]## annotated HSCs"
   ]
  },
  {
   "cell_type": "raw",
   "id": "ee7c315c",
   "metadata": {},
   "source": [
    "HSC = sc.AnnData(X= rna.X[id_HSC, :], \n",
    "                         obs = rna.obs.iloc[id_HSC, :], \n",
    "                        var = rna.var)\n",
    "HSC.obsm['X_pca'] = rna.obsm['X_pca'][id_HSC, :]\n",
    "HSC.obsm['X_umap'] = rna.obsm['X_umap'][id_HSC, :]"
   ]
  },
  {
   "cell_type": "raw",
   "id": "00e73dbb",
   "metadata": {},
   "source": [
    "prot.obs['LSK_clusters'] = rna.obs['LSK_clusters']"
   ]
  },
  {
   "cell_type": "raw",
   "id": "0cfac62c",
   "metadata": {},
   "source": [
    "prot_id_HSC = np.where(np.isin(prot.obs['LSK_clusters'], ['c1', 'c3','c7']))[0]"
   ]
  },
  {
   "cell_type": "raw",
   "id": "59889271",
   "metadata": {},
   "source": [
    "HSCprot = sc.AnnData(X= prot.X[prot_id_HSC, :], \n",
    "                         obs = prot.obs.iloc[prot_id_HSC, :], \n",
    "                        var = prot.var)\n",
    "HSCprot.obsm['X_pca'] = prot.obsm['X_pca'][prot_id_HSC, :]\n",
    "HSCprot.obsm['X_umap'] = prot.obsm['X_umap'][prot_id_HSC, :]"
   ]
  },
  {
   "cell_type": "raw",
   "id": "94efee40",
   "metadata": {},
   "source": [
    "ax = sc.pl.violin(HSCprot, 'CD117', \n",
    "                  groupby='LSK_clusters',   order=['c1', 'c3' ,'c7'],  \n",
    "                  show=False  # Do not display the plot immediately\n",
    "                 )\n",
    "\n",
    "# Remove the legend\n",
    "ax.legend_.remove()\n",
    "\n",
    "# Now display the plot\n",
    "plt.show()"
   ]
  },
  {
   "cell_type": "raw",
   "id": "f05cd3e1",
   "metadata": {},
   "source": [
    "str6='Igf1\tInhba\tPdgfc\tCyp26b1\tRian\tNdnf\tDnm3\tChil5\tMeis2\tShisa9\tMeg3\t9530026P05Rik\tGbp4\tGbp9\tChrm3\tBank1\tAhnak\tNcam2\tGbp6\tNeo1\tGlis3\tIgf2bp2\tAgbl1\tHoxb6\tGm28905\t4933406I18Rik\tHid1\tGbp8\tPkhd1l1\tSult1a1\tF830016B08Rik\tGm4951\tNav3\tNrg4\tSetbp1\tMmp28\tPlekhg1\tMyof\tPpargc1a\tRunx1t1\tIigp1\tPgr\tSox5\tRarb\tAbcb1a\tClec1a\tPpp2r2b\tKsr2\tProcr\tIfitm7\tCd74\tSbf2\tMmp16\tIl1rapl2\tGm46210\tGm46515\tIfi44\tHif3a\tPtprk\tSgsm1\tDennd2a\tLtb\tRin2\tJam2\tCpeb3\tGm12185\tTriqk\tAblim1\tMagi2\tGimap5\tLy6a\tNr3c2\tPrex2\tMettl7a1\tGm973\tPlcl1\tGimap8\tTecpr1\tSlc16a9\tAbcg3\tCpne8\tGm4070\tKlhl4\tSt8sia4\tFgd5\tGvin1\tPde2a\tRhoj\tEntpd1\tAcer2\tPclo\tPdgfd\tLancl3\tSlfn5\tMamdc2\tPtpn14\tGbp5\tMs4a6b\tMettl27\tLdb2\tCd247\tMap3k8\tTnip3\tGm17473\tArid5b\tA330023F24Rik\tOasl2\tHoxa3\tLbp\tEmcn\tArntl\tCnrip1\tE230032D23Rik\tMirt1\tSpaca6\tNsun7\tSorbs2\tNotch1\tMill2\tUnc13b\tAirn\tEvi5\tLhcgr\tN4bp2l1\tRgl1\tIl2rg\tNpas3\tHivep3\tKlhl3\tGm20559\t2310001H17Rik\tFam135a\tTrim34a\tTox\tZfp831\tSytl5\tBend7\tHoxb3\tGm17276\tPou2f2\tShisa5\tAlcam\tAnxa6\tFam169b\tZfp467\tHacd4\tNrk\t0610043K17Rik\tNeurl3\tTmem71\tTcp11l2\tCamk2d\tGm16070\tPalld\tDennd1c\tCyp2j6\tZc3h6\tThsd4'\n",
    "q_HSC= str6.split('\t')"
   ]
  },
  {
   "cell_type": "raw",
   "id": "f53fac7f",
   "metadata": {},
   "source": [
    "str7= 'Fosb\tFos\tNfkbiz\tSik1\tCytip\tGm19590\tCoq10b\tRgs1\tStk17b\tRel\tCreb5\tJunb\tMyl10\tZfp831\tClnk\tDok6\tSkil\tTiparp\tSox6\tRgs2\tGm29946\tCsf3r\tFlt3\tGm26802\tGm26887\tC030034L19Rik\tFgfr1\tRnf150\tIl18rap\tPhldb2\tZc3h12a\tRmnd5b\tPlaur\tPaqr8\tBcl6\tDhrs11\tSlc28a2\tNr4a1\tTaf13\tTgif1\tKcnk12\tDusp6\tGm10563\tMirt1\tArid5b\tDusp1\tEsr1\tKlf4\tEgr1\tZfp36\tKlf6\tWdfy2\tKlf2\tHist1h2ac\tCtsl\tHist1h2bc\tSqstm1\tPaqr5'\n",
    "MgK_HSC= str7.split('\t')"
   ]
  },
  {
   "cell_type": "raw",
   "id": "807d9f86",
   "metadata": {},
   "source": [
    "str8= 'Itga2b\tPlek\tSlc22a3\tAdgrl1\tTgfb1\tNucks1\tH2afz\tFyb\tRunx3\tYbx3\tStmn1\tBaz1a\tNol4l\tHdgf\tRab27b\tHmgb2\tMki67\tPf4\tCavin2\tHspd1\tIpo5\tAI504432\tLdha\tHnrnpab\tOxct1\tVcl\tRanbp1\tZfpm1\tIpo7\tPcna\tPa2g4\tNrgn\tPde5a\tSlc16a10\tSlc24a3\tVwf\tRan\tArhgap10\tNop56\tAlyref\tKnl1\tE2f8\tSlc9a9\tMvb12b\tDgkd\tSlc25a5\tBmp2k\tEtfb\tSlc14a1\t11-Sep\tAnp32e\tNolc1\tRpn1\tDkc1\tActn4\tAk2\tNaa50\tF2r\tSntb1\tSpidr\tMfsd2b\tHspe1\tPlcb1\tNomo1\tPaics\tPpat\tKalrn\tSla\tAsap2\tDtymk\tC1galt1\tHist1h2ap\tTanc1\tAI506816\tFoxk2\tCpsf2\tMid1\tPpfia1\tRangap1\tPdss1\tNme1\tEif3b\tHmgb3\tNup205\tCox5a\tSnrpd1\tMob1b\tLrrc8b\tSsrp1\tHpf1\tHaus6\tPde10a\tCox6a1\tAgpat5\tKhsrp\tNup155\tPpp1r14b\tMthfd1\tCep295\tMyom1\tYwhah\tPtpn7\tC1qbp\tSema4d\tNav1\tHmgn2\tLin54\tP3h2\tHmgn5\tCct7\tHsph1\tNudc\tCdyl\tFbl\tSlc20a1\tCacybp\tStip1\tPdap1\tNcoa3\tDpy19l1\tMe2\tPpm1g\tRfwd3\tCrip1\tOrc2\tAnln\tUbtf\tAbracl\tSnhg4\tInpp5a\tPdia6\tKif11\tParp1\tUba2\tVdac1\tPtger3\tRaly\tDepdc1b\tDnajc2\tCkap2l\tDnajc6\tSrm\tNup107\tBanf1\tBora\tSiva1\tNckap1\tNoc2l\tNup50\tAtp1b3\tCd9\tHist1h1b\tSacs\tUnc119\tLrp8\tHist1h2ae\tCox5b\tTex9\tUbxn2a\tSumo3\tSnrpd3\tNhp2\tDot1l\tKmt5a\tEftud2\tPpp1ca\tFoxn2\tMre11a\tHeatr1\tEtaa1\tPfas\tCdk4\tTada2a\tIncenp\tAtp5g1\tFkbp4\tTmem14c\tDdx1\tDynll1\tArl6ip6\tTpi1\tMdm1\tGart\tRpn2\tMrpl12\tPrmt1\tMad1l1\tRnf219\tAtp5o\tNdufb7\tDipk2a\tDnajb11\tManf\tP4hb\tTrim28\tNdrg1\tBcl7a\tNcbp1\tSlc16a1\tAbcb4\tKif4\tTmod1\tP2ry1\tUmps\tTmem123\tCdca2\tMdh2\tLockd\tCad\tCcdc34\tChsy3\tCcdc88c\tH2afj\tKsr1\tExoc3l2\tCenpe\tJpt1\tCd180\tRasgrp2\tXndc1\tExosc8\tRexo2\tNdufab1\tPhb2\tFbxo5\tHigd1a\tLyar\tBola2\tMis18bp1\tDusp3\tDpy30\tRobo3\tLhfp\tAdcy6\tTimm13\tAtad3a\tAtp5k\tNifk\tSnrpa1\tTuba4a\tRrm2\tDdx27\tGalk1\tAche\tEsco2\tNudcd2\tSpcs3\tCycs\tExosc2\tHemgn\tPik3cb\tBag1\tTrmt6\tSf3a3\tMphosph10\tLsm12\tNcaph2\tEif3g\tP2ry14\tCoro1c\tUsp39\tOlfr417\tCisd1\tCsrp1\tTbc1d31\tIdh3a\tSnhg3\tGucy1b1\tCkap2\tMrpl18\tPsmb5\tNop2\tCcnd1\tPrc1\tE2f6\tNup133\tShmt2\tChsy1\tAgfg2\tCdk2\tExosc5\tExosc1\tPbk\tAqp1\tRnaseh2c\tAmd1\tSlc7a5\tGar1\tSf3b5\tPolr2f\tSf3a1\tFabp5\tBub1\tTex30\tUpf1\tMastl\tMgat2\tZdhhc14\tAp2s1\tTuba8\tHist1h1d\tPsmg2\tGps1\tCalm3\tLsm6\tCcdc25\tDdx11\tLsm2\tUsp31\tPprc1\tUbe2m\tAlg8\tTimp3\tEdem1\tDynll2\t8-Sep\tTomm5\tNarf\tPhf5a\tCnst\tKif18a\tArhgap11a\tHyou1\tGfi1b\tUqcc2\tSnca\tZfp948\tCdca8\tArhgdia\tPdcd5\tDdx39\tMrpl14\tInip\tPsmd13\tMyo10\tMrpl57\tCks2\tKlhl23\tNdufc1\tSamd1\tMrpl36\tThap12\tMad2l1\tHist1h1a\tCcdc57\tUbash3a\tDlg3\tPrpf19\tSox12\tOstm1\tApex1\tEndod1\tAtp6v0a2\tFtsj3\tCdk2ap1\tSmdt1\tP2ry12\tDbf4\tH1fx\tSsx2ip\tLtbp1\tMydgf\tMrpl19\tSsbp4\tBcl2l1\tEbna1bp2\tGlrx5\tPms2\tPpif\tXpnpep1\tStub1\tAbcf2\tCenpf\tE2f4\tSnrpb2\tNdufs6\tNuf2\tLrrc20\tTmem160\tDdost\tThoc3\tIfi47\tPsme3\tGp5\tPolr3g\tFasn\tAlg6\tCenpu\tCd3eap\tGm45353\tHist2h2ac\tGata1\tZfp462\tSdf2l1\tDpf3\tPsmc5\tCiao2a\tPold2\tMrpl51\tMelk\tE2f2\tNdufa11\tNsl1\tSart3\tIl12a\tPls1\tActn1\tDhx29\tBag4\tSmpd4\tH2afx\tZfp385a\tFmc1\tPole3\tHdgfl2\tTnk2\tCluh\tEhd3\tPolh\tEif6\tItpa\tNkg7\tS100a1\tMrpl20\tOptn\tBicd2\tMrpl28\tIfrd2\tPpp1r8\tPpm1e\tCreld2\tLap3\tAunip\tPfdn6\tTomm22\tZfp692\tHist1h3e\tNans\tQdpr\tHist1h3a\tMgll\tBola3\tNdufb6\tGemin8\tRbfa\tTimm8a1\tUtp3\tFh1\tHist1h3c\tPrps2\tKdelr2\tRuvbl2\tRadx\tPdik1l\tRrp8\tRcc1\tBlvra\tAspm\tAsf1b\tArrb2\t0610010K14Rik\tVav2\tAp1s1\tCry1\tHmbs\tRbpms2\tGm42047\tMogs\tCep76\tRnasek\tPsmc4\tAen\tPrelid3b\tGm1968\tBend4\tMrps26\tSlc35b1\tFkbp11\tRpap3\tGadd45gip1\tCenpx\tTimm50\tSdhd\tBirc5\tCenpn\tMthfd2\tPsmd3\tPelp1\tRtca\tCnih1\tMrto4\tCotl1\tSf3a2\tTtf2\tCdc34\tSpag5\tRpa3\tYdjc\tCcna2\tHist1h2bj\tExosc3\tSteap3\tNelfe\tMbd3\tGcsh\tNxt1\tIsyna1\tNusap1\tTbcb\tDclre1a\tPdia5\tEif1ad\tBop1\tCdkn2aipnl\tTwf2\tKif14\tNoct\tTreml1\tDsn1\tGrpel1\tUfsp1\tWdr62\tYif1b\tLetm1\tParm1\tFam78a\tCiapin1\tPpih\tNt5dc2\tHaus8\tHist1h4a\tRtel1\tEmid1\tAars\tCenpw\tCinp\tD130058E05Rik\tSerpine2\tAp2a1\tGen1\tLhfpl2\tArl6ip4\tAlad\tHspa1b\tSmco4\tSmim5\tDepdc1a\tInts11\tCipc\tSuv39h2\tMfsd10\tKnstrn\tSgo2a\tTmem97\tGm36975\tSka3\tMars\tBax\tLactb\tTaf5\tCpsf4\tGpaa1\tStoml2\tLmnb2\tNop16\tGpd1l\tCnr2\tMrpl38\tHist1h4h\tEspl1\t2700038G22Rik\tMis12\tRrs1\tPin1\tSerpinb1a\tTube1\tFmnl3\tTsfm\tNup62\tChtf18\tTimm17b\tHist1h2bn\tErcc6l\tPus1\tSumf1\tDnaaf2\tRnf126\tBccip\tNde1\tAdrm1\tLitaf\tNop9\tAss1\tCmc2\tTufm\tAurkb\tNmral1\tGnaz\tRgs10\tF5\tHist1h2ak\tSpdl1\tMllt1\tTbxa2r\tMrps23\tMycbp\tVegfb\tDennd2c\tLat\tParpbp\tPcyt1b\tSnhg4-1\tNenf\tHist1h2bb\tSs18l2\tCap2\tAkip1\tFem1a\tNutf2\tPsmg3\tDegs1\tKif22\tRacgap1\tTmem39b\tElof1\tBysl\tMmgt1\tBola1\tBC030867\tCcdc134\tSka1\tGolt1b\tHist1h2ab\tPno1\tTubg1\tAcap3\tWdr74\tEbp\tFdps\tGm17092\tGas2\tCactin\tMtmr4\tCcdc124\tGtf3c5\tHist1h2bg\tMfap3l\tReep2\tNudt1\tCcnf\tPard6g\tPlekha7\tIcam4\tRbmx2\tLsm11\tAdgrg2\tDok2\tA430005L14Rik\tCndp2\tCcdc115\tMt1\tHist2h2bb\tHaspin\tCtnnbip1\tRdh13\tPolr2l\tPdgfb\tSlc9a7\tGm26652\tSlc35a4\tLmna\tAk6\tHmmr\tStx11\tFoxred1\tIft27\tTpm4\tSamd14\tKifc1\tSlc35d3\tTbl3\tHist1h3i\tAnapc15\tJagn1\tHist2h2aa1\tPoc1a\tRbm15b\tGp9\tHaus7\tSf3b4\tAdo\tSlc35f2\tArap3\tThop1\tMetrn\tHist1h2br\tBtbd11\tPradc1\tCcne1\tF2rl2\tKlhdc4\tJcad\tCib1\tSlc25a39\tHist1h2an\tUbl4a\tSec22c\tProser2\tPsmc3ip\tHist1h4i\tMrps11\tBend3\tBin1\tCcdc22\tGrwd1\tTbl2\tHras\tCenpl\tCcbe1\tEpor\t2610318N02Rik\tNup43\tEme1\tDus1l\tHist1h2af\tLrr1\tSlc35b2\tNubp1\tD030056L22Rik\t1700037H04Rik\tNudt19\tGm29050\tThoc6\tArf2\tHspa1a\tItgb2\tCdca4\tXrcc2\tSlc35g1\tWrap53\t2310061I04Rik\tSnrnp25\tCoq7\tGm2245\tRtn4ip1\tGarem1\t9230114K14Rik\tZfp593\tPolr2d\tEnkd1\tF630028O10Rik\tTedc1\tKpna2\tHist1h2bm\t9130401M01Rik\tTrim58\tHgh1\tCes2g\tMrpl49\tTmem158\tAsns\tHist1h3f\tEpdr1\tGm47545\tWdr55\tSptb\tTmem107\t'\n",
    "MLin_HSC= str8.split('\t')"
   ]
  },
  {
   "cell_type": "raw",
   "id": "252675dd",
   "metadata": {},
   "source": [
    "str9= 'Cdk6\tSlc22a3\tNol4l\tBcl2\tDnajc6\tFyb\tTgfb1\tTgfbr3\tItga2b\tPlek\tRunx3\tBaz1a\tF2r\tHdgf\tMuc13\tYbx3\tTnik\tMcm6\tDdx21\tTopbp1\tPola1\tApoe\tZfpm1\tAdgrl1\tPrkdc\tAI504432\tMfsd2b\tNrgn\tUbash3b\tSnx5\tSyk\tDkc1\tAtpif1\tLgals9\tEif5a\tIpo7\tSfxn1\tMob1b\tAk2\tSema4d\tPtpn7\tMcm3\tMdga1\tRcc2\tDnmt1\tDtl\tRgs1\tEtfb\tOxct1\tBtg2\tCdca7\tMicos10\tAdgrg3\tMthfd1l\tAlms1\tEif4e\tKras\tNomo1\tSlc25a5\tLdha\tNme1\tFam133b\tVcl\tPrim2\tHmgb3\tRan\tPa2g4\tTwistnb\tVps37b\tNop56\tTbcd\tMcm2\tDut\tLrrc8c\tSnrpf\tMid1\tUtp18\tMcm4\tNdrg1\tHist1h2ae\tCpsf2\tNasp\tPf4\tCdv3\tSnrpd1\tLig1\tSpns3\tLmnb1\tGclm\tWdhd1\tPus7\tAsap2\tHeatr1\tTbc1d1\tSlc16a10\tTnfaip2\tOlfr417\tBmp2k\tSlc24a3\tUbxn2a\tFoxk2\tHist1h2ap\tHells\tDynll1\tPpm1g\tP3h2\tSacs\tKat7\tGtpbp1\tClic4\tSlc20a1\tNolc1\tNaf1\tMcm7\tPlac8\tCavin2\tMapkapk2\tMcm5\tPrim1\tAtad5\tCoro1c\tCox5a\tPsmb5\tAbcb4\tAimp1\tTrim28\tNdufa13\tCacybp\tRpn2\tSnrpa1\tFbl\tCsgalnact2\tC1qbp\tGata1\tSlc9a9\tTipin\tPrep\tParp1\tFoxn2\t4930519L02Rik\tTfrc\tSnhg4\tTmod1\tCtps\tBola2\tCd180\tCrip1\tDusp3\tPpp1ca\tAbracl\tUsp1\tSkil\tCks2\tPsmd4\tKmt5a\tSmad7\tRobo3\tTimeless\tEsyt1\tWdr76\tNarf\tPpan\tInts2\tCalm3\tEzr\tPpp1r14b\tDyrk3\tPhf5a\tKars\tPak1ip1\tRgcc\tDpf2\tHmgn5\tCdkn2aip\tRipor1\tMta2\tPole2\tCops9\tLrrc8b\tRnf19b\tLsm4\tMrpl19\tHemgn\tAqp1\tNcbp1\tP2ry12\tEbna1bp2\tExosc1\tSynpo2\tSntb1\tSlamf1\tE2f1\tLsm12\tBanf1\tGm26542\tPsmd8\tD10Wsu102e\tDctpp1\tBri3bp\tZfp385a\tSyce2\tPolr1b\tMe2\tCdc25a\tMki67\tDpf3\tMyc\tBrpf1\tRnaseh2b\tUbxn1\tEif3g\tNdufa1\tHist1h1d\tTex30\tCuta\tAtf3\tFabp5\tSlc25a25\tMicall2'\n",
    "Int_HSC= str9.split('\t')"
   ]
  },
  {
   "cell_type": "raw",
   "id": "6db81632",
   "metadata": {},
   "source": [
    "str10 = 'Ranbp17\tZfp808\tJazf1\tRapgef5\tNeto2\t1700025G04Rik\tZfp934\tMpdz\t9330182L06Rik\tArsb\tDdb2\tStard13\tCcdc138\tLair1\tDock3\tSh3d19\tD630045J12Rik\tMbd4\tFoxd2os\tCacna1d\tMyh10\tGli3\tSmyd4\tSpice1\tGatm\tNova1\tCenpv\t4930452B06Rik\tEct2\tEvl\tPlp2\tPrkd1\tGnb1l\tIfit2\tFam114a1\tTshz3\tTmtc4\tTpst1\tCarmil2\tBcl2l11\tZc3hav1l\tDcbld2\tHaus1\tPhf19\tCrybg3\tDisc1\tUbe2t\tSaal1\tRaph1\tSrl\tNefh\tDsg2\tCntrob\tShtn1\tSnx7\t2810429I04Rik\tCxcr4\tSlc36a4\tSyt9\tSlc29a1'\n",
    "p_HSC= str10.split('\t')"
   ]
  },
  {
   "cell_type": "raw",
   "id": "5ddca61a",
   "metadata": {},
   "source": [
    "sc.tl.score_genes(HSC, gene_list = q_HSC,  score_name='q_HSC', use_raw=False)\n",
    "sc.tl.score_genes(HSC, gene_list = MgK_HSC,  score_name='MgK_HSC', use_raw=False)\n",
    "sc.tl.score_genes(HSC, gene_list = MLin_HSC,  score_name='MLin_HSC', use_raw=False)\n",
    "sc.tl.score_genes(HSC, gene_list = Int_HSC,  score_name='Int_HSC', use_raw=False)\n",
    "sc.tl.score_genes(HSC, gene_list = p_HSC,  score_name='p_HSC', use_raw=False)\n",
    "sc.tl.score_genes(HSC, gene_list = Cabezas_HSC_vs_MPP4,  score_name='Cabezas_HSC_vs_MPP4', use_raw=False)"
   ]
  },
  {
   "cell_type": "raw",
   "id": "5ba88892",
   "metadata": {},
   "source": [
    "# using exact match\n",
    "HSC.obs['cell_type_subset'] = ['q-HSC' if (x=='1' or x=='6' or x=='5' or x=='0') else \n",
    "                                 'MgK-HSC' if (x=='3' ) else\n",
    "                                 'MLin-HSC'if (x=='4' ) else \n",
    "                                 'Int-HSC' if (x=='2') else\n",
    "                                 'p-HSC'   if (x=='7') else\n",
    "                                'ERROR' for x in HSC.obs['leiden_0.6']] "
   ]
  },
  {
   "cell_type": "raw",
   "id": "134481c4",
   "metadata": {},
   "source": [
    "# Plot the results\n",
    "def plot_rawcounts(results_df):\n",
    "    # Create a bar plot showing differences\n",
    "    plt.figure(figsize=(8, 10))\n",
    "    \n",
    "    # Plot 2: Raw counts\n",
    "    ax2 = plt.subplot(2, 1, 2)\n",
    "    x = np.arange(len(results_df))\n",
    "    width = 0.35\n",
    "    \n",
    "    ax2.bar(x - width/2, results_df['high_count'], width, label='High', color='#FF0000')\n",
    "    ax2.bar(x + width/2, results_df['low_count'], width, label='Low', color='#0000FF')\n",
    "    \n",
    "    ax2.set_xlabel('Cell Type')\n",
    "    ax2.set_ylabel('Count')\n",
    "    ax2.set_title('Cell Type Counts by Group')\n",
    "    ax2.set_xticks(x)\n",
    "    ax2.set_xticklabels(results_df['cell_type'])\n",
    "    ax2.legend()\n",
    "    \n",
    "    # Remove top and right spines\n",
    "    ax2.spines['top'].set_visible(False)\n",
    "    ax2.spines['right'].set_visible(False)\n",
    "    \n",
    "    # Add significance indicators\n",
    "    for i, row in results_df.iterrows():\n",
    "        if row['significant']:\n",
    "            y_pos = max(row['high_count'], row['low_count']) + 15\n",
    "            plt.text(i, y_pos, row['stars'], ha='center', va='bottom', fontsize=14, fontweight='bold')\n",
    "    \n",
    "    plt.tight_layout()\n",
    "    plt.show()\n",
    "\n",
    "# Run the plotting function\n",
    "plot_rawcounts(results_df)"
   ]
  },
  {
   "cell_type": "raw",
   "id": "5098a60e",
   "metadata": {},
   "source": [
    "counts_df = extract_cell_type_counts(HSC, 'KIT_30', 'cell_type_subset')"
   ]
  },
  {
   "cell_type": "raw",
   "id": "f229375d",
   "metadata": {},
   "source": [
    "# Function to perform Pearson chi-square test for a single cell type\n",
    "def chi2_test_cell_type(cell_type, counts_df, high_total, low_total):\n",
    "    # Create 2x2 contingency table\n",
    "    cell_type_high = counts_df.loc[cell_type, 'High']\n",
    "    cell_type_low = counts_df.loc[cell_type, 'Low']\n",
    "    other_high = high_total - cell_type_high\n",
    "    other_low = low_total - cell_type_low\n",
    "    contingency = np.array([[cell_type_high, cell_type_low],\n",
    "                            [other_high, other_low]])\n",
    "    # Perform Pearson chi-square test\n",
    "    chi2, p_value, dof, expected = stats.chi2_contingency(contingency, correction=False)\n",
    "    # Calculate percentages for reporting\n",
    "    high_percent = (cell_type_high / high_total) * 100\n",
    "    low_percent = (cell_type_low / low_total) * 100\n",
    "    return {\n",
    "        'cell_type': cell_type,\n",
    "        'high_count': cell_type_high,\n",
    "        'low_count': cell_type_low,\n",
    "        'high_percent': high_percent,\n",
    "        'low_percent': low_percent,\n",
    "        'fold_change': (high_percent / low_percent) if low_percent > 0 else float('inf'),\n",
    "        'chi2_stat': chi2,\n",
    "        'p_value': p_value\n",
    "    }\n",
    "# Perform Pearson chi-square tests for each cell type\n",
    "def run_chi2_tests(counts_df):\n",
    "    high_total = counts_df['High'].sum()\n",
    "    low_total = counts_df['Low'].sum()\n",
    "    results = []\n",
    "    for cell_type in counts_df.index:\n",
    "        result = chi2_test_cell_type(cell_type, counts_df, high_total, low_total)\n",
    "        results.append(result)\n",
    "    # Create results DataFrame\n",
    "    results_df = pd.DataFrame(results)\n",
    "    # Set significance threshold\n",
    "    alpha = 0.05\n",
    "    # Format results\n",
    "    results_df['significant'] = results_df['p_value'] < alpha\n",
    "    results_df['diff_percent'] = results_df['high_percent'] - results_df['low_percent']\n",
    "    # Add significance stars\n",
    "    results_df['stars'] = ''\n",
    "    results_df.loc[results_df['p_value'] < 0.05, 'stars'] = '*'\n",
    "    results_df.loc[results_df['p_value'] < 0.01, 'stars'] = '**'\n",
    "    results_df.loc[results_df['p_value'] < 0.001, 'stars'] = '***'\n",
    "    return results_df"
   ]
  },
  {
   "cell_type": "raw",
   "id": "c2bad411",
   "metadata": {},
   "source": [
    "import matplotlib.pyplot as plt\n",
    "import numpy as np\n",
    "\n",
    "def plot_horizontal_counts_and_save(results_df, output_filename=\"chi2_results_horizontal.pdf\"):\n",
    "    plt.figure(figsize=(8, max(6, 0.4 * len(results_df))))  # dynamic height\n",
    "    \n",
    "    y = np.arange(len(results_df))\n",
    "    height = 0.35\n",
    "\n",
    "    plt.barh(y - height/2, results_df['high_count'], height, label='High', color='#FF4C4C')\n",
    "    plt.barh(y + height/2, results_df['low_count'], height, label='Low', color='#4C6FFF')\n",
    "\n",
    "    plt.ylabel('Cell Type')\n",
    "    plt.xlabel('Count')\n",
    "    plt.title('Cell Type Counts by Group')\n",
    "    plt.yticks(y, results_df['cell_type'])\n",
    "    plt.legend(loc='best')\n",
    "\n",
    "    # Clean up spines\n",
    "    ax = plt.gca()\n",
    "    ax.spines['top'].set_visible(False)\n",
    "    ax.spines['right'].set_visible(False)\n",
    "\n",
    "    # Add significance stars to the end of the bar\n",
    "    for i, row in results_df.iterrows():\n",
    "        if row['significant']:\n",
    "            max_val = max(row['high_count'], row['low_count'])\n",
    "            plt.text(max_val + 2, i, row['stars'], va='center', fontsize=12, fontweight='bold')\n",
    "\n",
    "    plt.tight_layout()\n",
    "    plt.savefig(output_filename)\n",
    "    plt.close()\n",
    "    print(f\"Plot saved as {output_filename}\")"
   ]
  },
  {
   "cell_type": "markdown",
   "id": "9a361499",
   "metadata": {},
   "source": [
    "# Figures 4 and S10"
   ]
  },
  {
   "cell_type": "code",
   "execution_count": null,
   "id": "7eaf8694",
   "metadata": {},
   "outputs": [],
   "source": [
    "# read in an example gene list\n",
    "Low_Old_vs_Young= pd.read_csv(\"Data Table 5.csv\")"
   ]
  },
  {
   "cell_type": "code",
   "execution_count": null,
   "id": "e27518cd",
   "metadata": {},
   "outputs": [],
   "source": [
    "enrichr_agingdn_hm_bp = gp.enrichr(gene_list=OldLow_dn,\n",
    "                 gene_sets=['GO_Biological_Process_2023','MSigDB_Hallmark_2020'],\n",
    "                 organism='mouse', \n",
    "                 outdir=None)"
   ]
  },
  {
   "cell_type": "code",
   "execution_count": null,
   "id": "702fbd29",
   "metadata": {},
   "outputs": [],
   "source": [
    "# read in an example gene lis\n",
    "Zbtb1_targets= pd.read_csv(\"Zbtb1_nonNotch_targets.csv\")"
   ]
  },
  {
   "cell_type": "code",
   "execution_count": null,
   "id": "f38bcdaf",
   "metadata": {},
   "outputs": [],
   "source": [
    "enrichr_bp = gp.enrichr(gene_list=Zbtb1_targets,\n",
    "                 gene_sets=['GO_Biological_Process_2023'],\n",
    "                 organism='mouse', \n",
    "                 outdir=None)"
   ]
  },
  {
   "cell_type": "code",
   "execution_count": null,
   "id": "2e1ae362",
   "metadata": {},
   "outputs": [],
   "source": [
    "ax = dotplot(enrichr_bp.results, \n",
    "             title='GO_BP Pathways',cmap='inferno_r', \n",
    "              top_term=50,\n",
    "               size=15, figsize=(3, 5))\n",
    "\n",
    "ax.set_xlabel('Combined Score', fontweight='bold')\n",
    "ax.grid(False)\n",
    "ax.figure.savefig('Zbtb1_nonNotch_bp.pdf', bbox_inches='tight')"
   ]
  },
  {
   "cell_type": "markdown",
   "id": "42b0f87b",
   "metadata": {},
   "source": [
    "# Figures 6 and S11\n",
    "\n",
    "## Step 5: Download raw matrices from https://osf.io/vdf42/ "
   ]
  },
  {
   "cell_type": "code",
   "execution_count": null,
   "id": "4f594e68",
   "metadata": {},
   "outputs": [],
   "source": [
    "%%R\n",
    "bm_sommarin = readRDS(\"./scrna_yBM_oBM_adt_hto.rds\")\n",
    "hsc_sommarin = readRDS(\"./scrna_adt_hto.rds\")"
   ]
  },
  {
   "cell_type": "code",
   "execution_count": null,
   "id": "88d61494",
   "metadata": {},
   "outputs": [],
   "source": [
    "%%R\n",
    "install.packages(\"scCustomize\", repos = \"https://cloud.r-project.org/\")"
   ]
  },
  {
   "cell_type": "code",
   "execution_count": null,
   "id": "3234c464",
   "metadata": {},
   "outputs": [],
   "source": [
    "%%R\n",
    "library(scCustomize)\n",
    "library(dittoSeq)\n",
    "library(ComplexHeatmap)\n",
    "library(SeuratData)\n",
    "library(ggplot2)"
   ]
  },
  {
   "cell_type": "code",
   "execution_count": null,
   "id": "d7ce8127",
   "metadata": {},
   "outputs": [],
   "source": [
    "%%R -w 600 -h 600\n",
    "p<- DimPlot(bm_sommarin, reduction = \"umap\", group.by = 'clust_names')+\n",
    "theme(axis.text.x = element_text(size = 20, color= 'black', face='bold'),  # Increase font size of x-axis labels\n",
    "    axis.text.y = element_text(size = 20, color='black',face='bold'),\n",
    "    axis.title = element_text(size= 20, color='black',face = \"bold\"),\n",
    "    legend.text = element_text(size= 20, color='black',face = \"bold\"),\n",
    "    legend.title = element_text(size= 20, color='black',face = \"bold\"),\n",
    "    panel.background = element_rect(fill = \"white\"),  # Set white background and black border\n",
    "    panel.grid.minor = element_blank(),  # Remove minor gridlines\n",
    "    panel.grid.major.x = element_blank(),\n",
    "    panel.grid.major.y = element_blank(),\n",
    "    axis.line = element_line(color = \"black\", size = 1.0),  # Increased thickness of axis lines\n",
    "  )\n",
    "p"
   ]
  },
  {
   "cell_type": "code",
   "execution_count": null,
   "id": "6f28feea",
   "metadata": {},
   "outputs": [],
   "source": [
    "%%R -w 500 -h 500\n",
    "p<- Cluster_Highlight_Plot(bm_sommarin, cluster_name = c(\"HSC-I\", \"HSC-II\", \"HSC-III\"), highlight_color = c(\"red\", \"blue\", \"green\"),\n",
    "background_color = \"lightgray\",  pt.size = 0.5)+\n",
    "theme(axis.text.x = element_text(size = 20, color= 'black', face='bold'),  # Increase font size of x-axis labels\n",
    "    axis.text.y = element_text(size = 20, color='black',face='bold'),\n",
    "    axis.title = element_text(size= 20, color='black',face = \"bold\"),\n",
    "    legend.text = element_text(size= 20, color='black',face = \"bold\"),\n",
    "    legend.title = element_text(size= 20, color='black',face = \"bold\"),\n",
    "    panel.background = element_rect(fill = \"white\"),  # Set white background and black border\n",
    "    panel.grid.minor = element_blank(),  # Remove minor gridlines\n",
    "    panel.grid.major.x = element_blank(),\n",
    "    panel.grid.major.y = element_blank(),\n",
    "    axis.line = element_line(color = \"black\", size = 1.0),  # Increased thickness of axis lines\n",
    "  )\n",
    "p"
   ]
  },
  {
   "cell_type": "code",
   "execution_count": null,
   "id": "615144be",
   "metadata": {},
   "outputs": [],
   "source": [
    "%%R\n",
    "HSC_subsets <- c(\"HSC-I\" = \"red\", \"HSC-II\" = \"blue\", \"HSC-III\" = \"green\")\n",
    "age <- c(\"old\" = \"darkgrey\", \"young\" = \"darkorange\") ##assign specific colors"
   ]
  },
  {
   "cell_type": "code",
   "execution_count": null,
   "id": "20063ce4",
   "metadata": {},
   "outputs": [],
   "source": [
    "## subset HSCs\n",
    "bm_sommarin_HSC <- bm_sommarin[, (bm_sommarin$clust_names == 'HSC-I'|bm_sommarin$clust_names == 'HSC-II'|bm_sommarin$clust_names == 'HSC-III') ]\n",
    "# Identify the cells with CD117 expression\n",
    "cd117_expression <- FetchData(object = bm_sommarin_HSC, vars = c(\"ADT-CD117\"))\n",
    "cells_of_interest <- which(cd117_expression > 1.3)\n",
    "# Create a new Seurat object with only the cells of interest\n",
    "HSC_clean <- bm_sommarin_HSC[, cells_of_interest]"
   ]
  },
  {
   "cell_type": "code",
   "execution_count": null,
   "id": "01b1c9b7",
   "metadata": {},
   "outputs": [],
   "source": [
    "%%R -w 500 -h 500 \n",
    "p<- DimPlot(HSC_clean, reduction = \"umap\", group.by = 'age', pt.size=0.05,repel=TRUE)+\n",
    "theme(axis.text.x = element_text(size = 20, color= 'black', face='bold'),  # Increase font size of x-axis labels\n",
    "    axis.text.y = element_text(size = 20, color='black',face='bold'),\n",
    "    axis.title = element_text(size= 20, color='black',face = \"bold\"),\n",
    "    legend.text = element_text(size= 20, color='black',face = \"bold\"),\n",
    "    legend.title = element_text(size= 20, color='black',face = \"bold\"),\n",
    "    panel.background = element_rect(fill = \"white\"),  # Set white background and black border\n",
    "    panel.grid.minor = element_blank(),  # Remove minor gridlines\n",
    "    panel.grid.major.x = element_blank(),\n",
    "    panel.grid.major.y = element_blank(),\n",
    "    axis.line = element_line(color = \"black\", size = 1.0),  # Increased thickness of axis lines\n",
    "  ) + scale_color_manual(values=c(\"young\"=\"darkorange\", \"old\"=\"darkgrey\"))\n",
    "p\n"
   ]
  },
  {
   "cell_type": "code",
   "execution_count": null,
   "id": "a6404d37",
   "metadata": {},
   "outputs": [],
   "source": [
    "ggplot(HSC_clean@meta.data, aes(age)) + geom_bar(aes(fill = clust_names), position='fill')+\n",
    "scale_fill_manual(values = HSC_subsets)"
   ]
  },
  {
   "cell_type": "code",
   "execution_count": null,
   "id": "29b6f017",
   "metadata": {},
   "outputs": [],
   "source": [
    "%%R\n",
    "# Normalize ADT data,\n",
    "DefaultAssay(bm_sommarin_HSC) <- \"ADT\"\n",
    "bm_sommarin_HSC <- NormalizeData(bm_sommarin_HSC, normalization.method = \"CLR\", margin = 2)\n",
    "DefaultAssay(bm_sommarin_HSC) <- \"RNA\"\n",
    "\n",
    "# Note that the following command is an alternative but returns the same result\n",
    "bm_sommarin_HSC <- NormalizeData(bm_sommarin_HSC, normalization.method = \"CLR\", margin = 2, assay = \"ADT\")"
   ]
  },
  {
   "cell_type": "code",
   "execution_count": null,
   "id": "a77c306a",
   "metadata": {},
   "outputs": [],
   "source": [
    "%%R\n",
    "# Extract a list of features measured in the ADT assay\n",
    "rownames(bm_sommarin_HSC[[\"ADT\"]])"
   ]
  },
  {
   "cell_type": "code",
   "execution_count": null,
   "id": "c17cb8b4",
   "metadata": {},
   "outputs": [],
   "source": [
    "%%R -w 500 -h 500\n",
    "p<-ggplot(HSC_clean@meta.data, aes(age)) + geom_bar(aes(fill = clust_names), position='fill')+\n",
    "scale_fill_manual(values = HSC_subsets) +  # Assign specific colors to the clusters\n",
    " theme(axis.text.x = element_text(size = 20, color= 'black', face='bold'),  # Increase font size of x-axis labels\n",
    "    axis.text.y = element_text(size = 20, color='black',face='bold'),\n",
    "    axis.title = element_text(size= 20, color='black',face = \"bold\"),\n",
    "    legend.text = element_text(size= 20, color='black',face = \"bold\"),\n",
    "    legend.title = element_text(size= 20, color='black',face = \"bold\"),\n",
    "    panel.background = element_rect(fill = \"white\"),  # Set white background and no border\n",
    "    panel.grid.minor = element_blank(),  # Remove minor gridlines\n",
    "    panel.grid.major.x = element_blank(),\n",
    "    panel.grid.major.y = element_blank(),\n",
    "    axis.line = element_line(color = \"black\", size = 1.5),  # Increased thickness of axis lines\n",
    "    panel.grid = element_blank()# Remove background gridlines\n",
    "  )\n",
    "\n",
    "p"
   ]
  },
  {
   "cell_type": "code",
   "execution_count": null,
   "id": "130b6f8a",
   "metadata": {},
   "outputs": [],
   "source": [
    "%%R -w 500 -h 500\n",
    "p<- VlnPlot(object = HSC_clean, feature = c(\"ADT-CD117\"))+\n",
    "scale_fill_manual(values = age) +  # Assign specific colors to the clusters\n",
    "theme(axis.text.x = element_text(size = 20, color= 'black', face='bold'),  # Increase font size of x-axis labels\n",
    "    axis.text.y = element_text(size = 20, color='black',face='bold'),\n",
    "    axis.title = element_text(size= 20, color='black',face = \"bold\"),\n",
    "    legend.text = element_text(size= 20, color='black',face = \"bold\"),\n",
    "    legend.title = element_text(size= 20, color='black',face = \"bold\"),\n",
    "    panel.background = element_rect(fill = \"white\"),  # Set white background and black border\n",
    "    panel.grid.minor = element_blank(),  # Remove minor gridlines\n",
    "    panel.grid.major.x = element_blank(),\n",
    "    panel.grid.major.y = element_blank(),\n",
    "    axis.line = element_line(color = \"black\", size = 1.0),  # Increased thickness of axis lines\n",
    "  )\n",
    "p"
   ]
  },
  {
   "cell_type": "code",
   "execution_count": null,
   "id": "7088daba",
   "metadata": {},
   "outputs": [],
   "source": [
    "# Extract the expression values for \"ADT-CD117\" from the old samples\n",
    "cd117_old <- FetchData(object=old, vars= \"ADT-CD117\")\n",
    "cd117_young <-FetchData(object=young, vars=\"ADT-CD117\")\n",
    "\n",
    "df <- data.frame(cd117_old)\n",
    "df <- rownames_to_column(df, var = \"CellNames\")\n",
    "old_cd117<- df$ADT.CD117\n",
    "\n",
    "df1 <- data.frame(cd117_young)\n",
    "df1 <- rownames_to_column(df1, var = \"CellNames\")\n",
    "young_cd117<- df1$ADT.CD117\n",
    "\n",
    "# run Mann-whitney \n",
    "result <- wilcox.test(old_cd117, young_cd117)\n",
    "result"
   ]
  },
  {
   "cell_type": "code",
   "execution_count": 44,
   "id": "6a09a6ca",
   "metadata": {
    "scrolled": false
   },
   "outputs": [
    {
     "name": "stdout",
     "output_type": "stream",
     "text": [
      "[1] \"Xist, Rap1b, Zeb2, Mki67, Diaph3, Top2a, Hmgb2, Pbx1, Rad51b, Plxdc2, Atad2, Cenpp, Plcb1, Hspa5, Pola1, Pdcd4, Pf4, Psd3, Knl1, Smc4, Mef2c, Smc2, Cep128, Prkca, Dlg2, Lmnb1, Dek, Lims1, Nucks1, Ezh2, Hist1h2ap, Rab27b, Asap1, Rrm1, Dtl, H2afz, Tsc22d2, Kif11, Vcl, Itga2b, Vwf, Kif15, Prim2, Sik2, Mms22l, Kif20b, Fli1, Hist1h1b, Etf1, Sik3, Ncam2, Smchd1, Gm47283, Atad5, Cit, Cenpe, Cntln, AU020206, Hist1h2ae, Purb, Nol4l, Cks2, Klf9, Rabgap1l, Zbtb11, Cbx5, Klf13, Klf6, Smarca5, Cenpf, Brip1, Dnmt1, Tmpo, Blm, Tgfb1, Elf1, Ncapg2, AI504432, Polq, Kpna1, Serpina3g, Nup153, Sfmbt1, Rad18, Rbbp8, Ncapd3, Calm1, Lockd, Topbp1, Ranbp2, Hjurp, Neil3, Spata5, Coro2a, Dgkd, Mgat5, Mapk1, Ctdspl, Hells, Kalrn, Pde5a, Ube2s, Pds5a, Gnas, Ckap5, Brca1, Adgrl1, C1galt1, Bmp2k, Tpx2, Srgap2, Suz12, Mid1, Incenp, Dut, Tra2b, Pcna, Xpo1, Tiparp, Slc9a9, Sntb1, Ctnnal1, Tmsb4x, Hdgf, Spidr, Kif2a, Ckap2l, Ccnl1, Yaf2, Usp24, Anln, Mapre1, Nasp, Igf2bp2, Plek, Hspa4, Fyn, Mmp16, Ube2k, Gucy1a1, Ifrd1, Oxct1, Btg2, Nap1l1, Rlim, Tuba1b, Ncapd2, Pkp4, Mast2, Nktr, Chd1, Nptn, Rab5a, Fkbp5, Kif23, Sla, 11-Sep, Wdhd1, Ehd4, Mvb12b, Usp32, Ccnt1, Zwilch, Tubb5, Kif4, Lig1, Mapk6, Stag1, P3h2, Depdc1b, Mis18bp1, Clic4, Brca2, Arhgap10, Odc1, Tyms, Uhrf1, Stmn1, Rangap1, Kif24, Kif18a, Baz1b, Hsp90b1, Hnrnpd, Cenpk, Rad21, Klf2, E2f8, Pdgfc, Atl2, Plk4, Anp32e, Prc1, Cenph, Actn4, Pclaf, Adgrl2, Ski, Pole, Tsix, Alyref, Clspn, Klf4, Kif5b, F2r, Dyrk1a, Aspm, Ncoa3, Hipk2, Baz1a, Ndc1, Zranb3, Slc24a3, Bard1, Azin1, Dynll1, Usp1, Kdm6a, Spag9, Lin54, Zfpm1, Hist1h1d, Phka2, Hipk1, Slc7a1, Nusap1, Slbp, Spc24, Ppp2ca, Slc14a1, Mapkapk2, Dbf4, Zgrf1, Arih1, Kntc1, Hspa8, Snrpd1, Hmgn2, Cep192, Pde10a, H2afv, Cdca2, Stil, Mfsd2b, Ctcf, Srsf3, Myom1, Nr4a1, Ran, Tipin, Ndc80, E2f7, Ncapg, Bub1b\"\n"
     ]
    }
   ],
   "source": [
    "%%R\n",
    "Kitlo_genes"
   ]
  },
  {
   "cell_type": "code",
   "execution_count": 46,
   "id": "e2478516",
   "metadata": {},
   "outputs": [],
   "source": [
    "%%R\n",
    "library(biomaRt)"
   ]
  },
  {
   "cell_type": "code",
   "execution_count": 47,
   "id": "f01382ec",
   "metadata": {},
   "outputs": [],
   "source": [
    "%%R\n",
    "human <- useMart(biomart = \"ensembl\", \n",
    "                   dataset = \"hsapiens_gene_ensembl\", \n",
    "                   host = \"https://www.ensembl.org\")\n",
    "\n",
    "mouse <- useMart(biomart = \"ensembl\", \n",
    "                   dataset = \"mmusculus_gene_ensembl\", \n",
    "                   host = \"https://www.ensembl.org\")"
   ]
  },
  {
   "cell_type": "code",
   "execution_count": 46,
   "id": "0a2151e0",
   "metadata": {},
   "outputs": [],
   "source": [
    "%%R\n",
    "mouse <- useMart( \"ensembl\", dataset = \"mmusculus_gene_ensembl\")\n",
    "human <- useMart( \"ensembl\", dataset = \"hsapiens_gene_ensembl\")"
   ]
  },
  {
   "cell_type": "code",
   "execution_count": 47,
   "id": "b2720fa3",
   "metadata": {},
   "outputs": [],
   "source": [
    "%%R\n",
    "mouse <- useMart( \"ensembl\", dataset = \"mmusculus_gene_ensembl\")\n",
    "mouse_human_genes = read.csv(\"http://www.informatics.jax.org/downloads/reports/HOM_MouseHumanSequence.rpt\",sep=\"\\t\")"
   ]
  },
  {
   "cell_type": "code",
   "execution_count": null,
   "id": "995e41ec",
   "metadata": {},
   "outputs": [],
   "source": [
    "%%R\n",
    "convert_mouse_to_human <- function(gene_list){\n",
    "\n",
    "  output = c()\n",
    "\n",
    "  for(gene in gene_list){\n",
    "    class_key = (mouse_human_genes %>% filter(Symbol == gene & Common.Organism.Name==\"mouse, laboratory\"))[['DB.Class.Key']]\n",
    "    if(!identical(class_key, integer(0)) ){\n",
    "      human_genes = (mouse_human_genes %>% filter(DB.Class.Key == class_key & Common.Organism.Name==\"human\"))[,\"Symbol\"]\n",
    "      for(human_gene in human_genes){\n",
    "        output = append(output,human_gene)\n",
    "      }\n",
    "    }\n",
    "  }\n",
    "\n",
    "  return (output)\n",
    "}"
   ]
  },
  {
   "cell_type": "code",
   "execution_count": null,
   "id": "39a415a2",
   "metadata": {},
   "outputs": [],
   "source": [
    "%%R\n",
    "human_genes <- convert_mouse_to_human(gene_list)"
   ]
  },
  {
   "cell_type": "code",
   "execution_count": null,
   "id": "f44cb814",
   "metadata": {},
   "outputs": [],
   "source": [
    "signatures <- list(kitlo = c(human_genes))\n",
    "available_gene_names <- rownames(HSC_clean)\n",
    "human_list <- human_genes %in% available_gene_names"
   ]
  },
  {
   "cell_type": "code",
   "execution_count": null,
   "id": "25588607",
   "metadata": {},
   "outputs": [],
   "source": [
    "library(UCell)\n",
    "HSC_clean <- AddModuleScore_UCell(\n",
    "                     HSC_clean, features= signatures, name= NULL)"
   ]
  },
  {
   "cell_type": "code",
   "execution_count": null,
   "id": "fbd3b1f2",
   "metadata": {},
   "outputs": [],
   "source": [
    "%%R -w 400 -h 400\n",
    "p<- FeaturePlot(HSC_clean, reduction = \"umap\", features = names(signatures),repel = TRUE,\n",
    "  min.cutoff = -1, max.cutoff = 0.175)+\n",
    "            scale_colour_gradientn(colours = rev(brewer.pal(n = 10, name = \"RdBu\")))+\n",
    "theme(axis.text.x = element_text(size = 20, color= 'black', face='bold'),  # Increase font size of x-axis labels\n",
    "    axis.text.y = element_text(size = 20, color='black',face='bold'),\n",
    "    axis.title = element_text(size= 20, color='black',face = \"bold\"),\n",
    "    legend.text = element_text(size= 15, color='black',face = \"bold\"),\n",
    "    legend.title = element_text(size= 20, color='black',face = \"bold\"),\n",
    "    panel.background = element_rect(fill = \"white\"),  # Set white background and black border\n",
    "    panel.grid.minor = element_blank(),  # Remove minor gridlines\n",
    "    panel.grid.major.x = element_blank(),\n",
    "    panel.grid.major.y = element_blank(),\n",
    "    axis.line = element_line(color = \"black\", size = 1.0),  # Increased thickness of axis lines\n",
    "  )\n",
    "p"
   ]
  },
  {
   "cell_type": "code",
   "execution_count": null,
   "id": "a2f4c9cc",
   "metadata": {},
   "outputs": [],
   "source": [
    "%%R\n",
    "Idents(object = HSC_clean) <- \"age\"\n",
    "\n",
    "p<- VlnPlot(HSC_clean, c(\"kitlo\"), group.by='age')+\n",
    "scale_fill_manual(values = age) +  # Assign specific colors to the clusters\n",
    "theme(axis.text.x = element_text(size = 20, color= 'black', face='bold'),  # Increase font size of x-axis labels\n",
    "    axis.text.y = element_text(size = 20, color='black',face='bold'),\n",
    "    axis.title = element_text(size= 20, color='black',face = \"bold\"),\n",
    "    legend.text = element_text(size= 20, color='black',face = \"bold\"),\n",
    "    legend.title = element_text(size= 20, color='black',face = \"bold\"),\n",
    "    panel.background = element_rect(fill = \"white\"),  # Set white background and black border\n",
    "    panel.grid.minor = element_blank(),  # Remove minor gridlines\n",
    "    panel.grid.major.x = element_blank(),\n",
    "    panel.grid.major.y = element_blank(),\n",
    "    axis.line = element_line(color = \"black\", size = 1.0),  # Increased thickness of axis lines\n",
    "  )\n",
    "\n",
    "p"
   ]
  },
  {
   "cell_type": "code",
   "execution_count": null,
   "id": "957c99b2",
   "metadata": {},
   "outputs": [],
   "source": [
    "# Extract the expression values for \"mouse kitlo gene signature\" from young and old samples\n",
    "low_old <- FetchData(object=old, vars= \"kitlo\")\n",
    "low_young <-FetchData(object=young, vars=\"kitlo\")\n",
    "\n",
    "df <- data.frame(low_old)\n",
    "df <- rownames_to_column(df, var = \"CellNames\")\n",
    "old_kitlo<- df$kitlo\n",
    "\n",
    "df1 <- data.frame(low_young)\n",
    "df1 <- rownames_to_column(df1, var = \"CellNames\")\n",
    "young_kitlo<- df1$kitlo\n",
    "\n",
    "# run Mann-whitney \n",
    "result <- wilcox.test(old_kitlo, young_kitlo)\n",
    "result\n"
   ]
  }
 ],
 "metadata": {
  "kernelspec": {
   "display_name": "Python 3 (ipykernel)",
   "language": "python",
   "name": "python3"
  },
  "language_info": {
   "codemirror_mode": {
    "name": "ipython",
    "version": 3
   },
   "file_extension": ".py",
   "mimetype": "text/x-python",
   "name": "python",
   "nbconvert_exporter": "python",
   "pygments_lexer": "ipython3",
   "version": "3.12.7"
  }
 },
 "nbformat": 4,
 "nbformat_minor": 5
}
