{
 "cells": [
  {
   "cell_type": "code",
   "execution_count": 1,
   "id": "e9e46372",
   "metadata": {},
   "outputs": [
    {
     "name": "stderr",
     "output_type": "stream",
     "text": [
      "/opt/anaconda3/envs/R-lisi/lib/python3.12/site-packages/tqdm/auto.py:21: TqdmWarning: IProgress not found. Please update jupyter and ipywidgets. See https://ipywidgets.readthedocs.io/en/stable/user_install.html\n",
      "  from .autonotebook import tqdm as notebook_tqdm\n"
     ]
    },
    {
     "name": "stdout",
     "output_type": "stream",
     "text": [
      "scanpy==1.10.4 anndata==0.11.1 umap==0.5.7 numpy==2.0.2 scipy==1.14.1 pandas==2.2.3 scikit-learn==1.5.2 statsmodels==0.14.4 igraph==0.11.8 pynndescent==0.5.13\n"
     ]
    }
   ],
   "source": [
    "import scanpy as sc\n",
    "import scanpy.external as sce\n",
    "import numpy as np\n",
    "import pandas as pd\n",
    "import warnings, scipy.sparse as sp, matplotlib, matplotlib.pyplot as plt\n",
    "from matplotlib.colors import LinearSegmentedColormap\n",
    "from matplotlib.pyplot import rc_context\n",
    "from collections import Counter\n",
    "import matplotlib.font_manager\n",
    "import matplotlib.lines as lines\n",
    "import seaborn as sns\n",
    "import matplotlib as mpl\n",
    "import matplotlib.pyplot as plt\n",
    "import muon as mu\n",
    "#import pyreadr\n",
    "#import rpy2\n",
    "#from rpy2.robjects.packages import importr\n",
    "#import rpy2.robjects as robjects\n",
    "#import magic\n",
    "import seaborn as sns\n",
    "#import palantir\n",
    "#import loompy\n",
    "#from scipy.sparse import csgraph\n",
    "\n",
    "matplotlib.rcParams['pdf.fonttype'] = 42\n",
    "matplotlib.rcParams['ps.fonttype'] = 42\n",
    "matplotlib.rcParams['font.family'] = 'sans-serif'\n",
    "matplotlib.rcParams['font.sans-serif'] = 'Arial'\n",
    "matplotlib.rc('font', size=14)\n",
    "\n",
    "pd.set_option('display.max_rows', 200)\n",
    "\n",
    "sc.set_figure_params(dpi=80, dpi_save=300, color_map='Spectral_r', vector_friendly=True, transparent=True)\n",
    "sc.settings.verbosity = 3 # verbosity: errors (0), warnings (1), info (2), hints (3)\n",
    "sc.logging.print_header()"
   ]
  },
  {
   "cell_type": "code",
   "execution_count": 2,
   "id": "ae31da85",
   "metadata": {},
   "outputs": [],
   "source": [
    "import sknetwork as skn\n",
    "from sknetwork.data import karate_club\n",
    "from sknetwork.clustering import Louvain"
   ]
  },
  {
   "cell_type": "code",
   "execution_count": 3,
   "id": "370fa661-eb34-4012-b6f9-ad4d51da1262",
   "metadata": {},
   "outputs": [],
   "source": [
    "# preset color palettes and color maps\n",
    "user_defined_palette =  [ '#F6222E', '#16FF32', '#3283FE', '#FEAF16', '#BDCDFF', '#3B00FB', '#1CFFCE', '#C075A6', '#F8A19F', '#B5EFB5', '#FBE426', '#C4451C', \n",
    "                          '#2ED9FF', '#c1c119', '#8b0000', '#FE00FA', '#1CBE4F', '#1C8356', '#0e452b', '#AA0DFE', '#B5EFB5', '#325A9B', '#90AD1C']\n",
    "\n",
    "user_defined_cmap_markers = LinearSegmentedColormap.from_list('mycmap', [\"#E6E6FF\", \"#CCCCFF\", \"#B2B2FF\", \"#9999FF\",  \"#6666FF\",   \"#3333FF\", \"#0000FF\"])\n",
    "user_defined_cmap_degs = LinearSegmentedColormap.from_list('mycmap', [\"#0000FF\", \"#3333FF\", \"#6666FF\", \"#9999FF\", \"#B2B2FF\", \"#CCCCFF\", \"#E6E6FF\", \"#E6FFE6\", \"#CCFFCC\", \"#B2FFB2\", \"#99FF99\", \"#66FF66\", \"#33FF33\", \"#00FF00\"])"
   ]
  },
  {
   "cell_type": "code",
   "execution_count": 4,
   "id": "2721db7a",
   "metadata": {},
   "outputs": [
    {
     "name": "stdout",
     "output_type": "stream",
     "text": [
      "Requirement already satisfied: igraph in /opt/anaconda3/envs/R-lisi/lib/python3.12/site-packages (0.11.8)\n",
      "Requirement already satisfied: texttable>=1.6.2 in /opt/anaconda3/envs/R-lisi/lib/python3.12/site-packages (from igraph) (1.7.0)\n",
      "Note: you may need to restart the kernel to use updated packages.\n"
     ]
    }
   ],
   "source": [
    "pip install igraph"
   ]
  },
  {
   "cell_type": "code",
   "execution_count": 5,
   "id": "e76cf938-2ede-4efb-b4b9-d16011395257",
   "metadata": {},
   "outputs": [],
   "source": [
    "%matplotlib inline "
   ]
  },
  {
   "cell_type": "code",
   "execution_count": 6,
   "id": "26aaa147",
   "metadata": {},
   "outputs": [],
   "source": [
    "from muon import prot as pt"
   ]
  },
  {
   "cell_type": "markdown",
   "id": "fbc55d48",
   "metadata": {},
   "source": [
    "# Download muon file: \"JEM2023.h5mu\" from zenodo"
   ]
  },
  {
   "cell_type": "code",
   "execution_count": 7,
   "id": "6cb9c919",
   "metadata": {},
   "outputs": [],
   "source": [
    "import mudata as md"
   ]
  },
  {
   "cell_type": "code",
   "execution_count": 8,
   "id": "20ca4911",
   "metadata": {},
   "outputs": [],
   "source": [
    "rna = md.read(\"JEM2023.h5mu/rna\")"
   ]
  },
  {
   "cell_type": "code",
   "execution_count": 9,
   "id": "be1c3265",
   "metadata": {
    "scrolled": true
   },
   "outputs": [
    {
     "data": {
      "text/plain": [
       "AnnData object with n_obs × n_vars = 11287 × 67\n",
       "    var: 'gene_ids', 'feature_types', 'genome', 'pattern', 'read', 'sequence'\n",
       "    uns: 'neighbors', 'pca', 'umap'\n",
       "    obsm: 'X_pca', 'X_umap'\n",
       "    varm: 'PCs'\n",
       "    layers: 'counts'\n",
       "    obsp: 'connectivities', 'distances'"
      ]
     },
     "execution_count": 9,
     "metadata": {},
     "output_type": "execute_result"
    }
   ],
   "source": [
    "prot = md.read(\"JEM2023.h5mu/prot\")\n",
    "prot"
   ]
  },
  {
   "cell_type": "code",
   "execution_count": 10,
   "id": "ef8a0db8",
   "metadata": {
    "scrolled": true
   },
   "outputs": [
    {
     "data": {
      "text/plain": [
       "AnnData object with n_obs × n_vars = 11287 × 16153\n",
       "    obs: 'n_genes_by_counts', 'total_counts', 'total_counts_mt', 'pct_counts_mt', 'leiden_0.5', 'leiden_0.6', 'leiden_0.7', 'leiden_0.8', 'LSK_clusters'\n",
       "    var: 'gene_ids', 'feature_types', 'genome', 'pattern', 'read', 'sequence', 'mt', 'n_cells_by_counts', 'mean_counts', 'pct_dropout_by_counts', 'total_counts', 'highly_variable', 'means', 'dispersions', 'dispersions_norm', 'mean', 'std'\n",
       "    uns: 'LSK_clusters_colors', 'hvg', 'leiden_0.5', 'leiden_0.5_colors', 'leiden_0.6', 'leiden_0.6_colors', 'leiden_0.7', 'leiden_0.7_colors', 'leiden_0.8', 'leiden_0.8_colors', 'leiden_colors', 'log1p', 'neighbors', 'pca', 'rank_genes_groups', 'rna:LSK_clusters_colors', 'umap'\n",
       "    obsm: 'X_pca', 'X_umap'\n",
       "    varm: 'PCs'\n",
       "    layers: 'counts', 'norm_counts', 'norm_log'\n",
       "    obsp: 'connectivities', 'distances'"
      ]
     },
     "execution_count": 10,
     "metadata": {},
     "output_type": "execute_result"
    }
   ],
   "source": [
    "rna"
   ]
  },
  {
   "cell_type": "markdown",
   "id": "b31691ec",
   "metadata": {},
   "source": [
    "## HSC subsetting "
   ]
  },
  {
   "cell_type": "code",
   "execution_count": 11,
   "id": "23611651",
   "metadata": {},
   "outputs": [],
   "source": [
    "id_HSC = np.where(np.isin(rna.obs['LSK_clusters'], ['c1', 'c3','c7']))[0]"
   ]
  },
  {
   "cell_type": "code",
   "execution_count": 12,
   "id": "494fe386",
   "metadata": {},
   "outputs": [],
   "source": [
    "HSC = sc.AnnData(X= rna.X[id_HSC, :], \n",
    "                         obs = rna.obs.iloc[id_HSC, :], \n",
    "                        var = rna.var)\n",
    "HSC.obsm['X_pca'] = rna.obsm['X_pca'][id_HSC, :]\n",
    "HSC.obsm['X_umap'] = rna.obsm['X_umap'][id_HSC, :]"
   ]
  },
  {
   "cell_type": "code",
   "execution_count": 13,
   "id": "ac598d2c",
   "metadata": {
    "scrolled": false
   },
   "outputs": [
    {
     "data": {
      "text/plain": [
       "AnnData object with n_obs × n_vars = 2782 × 16153\n",
       "    obs: 'n_genes_by_counts', 'total_counts', 'total_counts_mt', 'pct_counts_mt', 'leiden_0.5', 'leiden_0.6', 'leiden_0.7', 'leiden_0.8', 'LSK_clusters'\n",
       "    var: 'gene_ids', 'feature_types', 'genome', 'pattern', 'read', 'sequence', 'mt', 'n_cells_by_counts', 'mean_counts', 'pct_dropout_by_counts', 'total_counts', 'highly_variable', 'means', 'dispersions', 'dispersions_norm', 'mean', 'std'\n",
       "    obsm: 'X_pca', 'X_umap'"
      ]
     },
     "execution_count": 13,
     "metadata": {},
     "output_type": "execute_result"
    }
   ],
   "source": [
    "HSC"
   ]
  },
  {
   "cell_type": "code",
   "execution_count": 14,
   "id": "983d90b8",
   "metadata": {},
   "outputs": [],
   "source": [
    "#cols_to_remove = ['leiden_0.5', 'leiden_0.6', 'leiden_0.7', 'leiden_0.8']  # Replace with actual column names\n",
    "#HSC.obs.drop(columns=[col for col in cols_to_remove if col in HSC.obs.columns], inplace=True)"
   ]
  },
  {
   "cell_type": "code",
   "execution_count": 14,
   "id": "cb9ed4c9",
   "metadata": {},
   "outputs": [],
   "source": [
    "# Remove any unused categories\n",
    "HSC.obs['LSK_clusters'] = HSC.obs['LSK_clusters'].cat.remove_unused_categories()"
   ]
  },
  {
   "cell_type": "code",
   "execution_count": 15,
   "id": "e55ef572",
   "metadata": {},
   "outputs": [
    {
     "data": {
      "text/plain": [
       "AAACCCAAGGAAAGAC-1    c1\n",
       "AAACCCACAGTCACGC-1    c7\n",
       "AAACCCATCAAGTGTC-1    c1\n",
       "AAACCCATCAGACCGC-1    c1\n",
       "AAACCCATCCAGTACA-1    c7\n",
       "                      ..\n",
       "TTTGATCGTCGTTTCC-1    c3\n",
       "TTTGGAGAGAGCAGAA-1    c1\n",
       "TTTGGTTAGGGAACAA-1    c3\n",
       "TTTGTTGCACTTGAAC-1    c7\n",
       "TTTGTTGTCTCATTGT-1    c1\n",
       "Name: LSK_clusters, Length: 2782, dtype: category\n",
       "Categories (3, object): ['c1', 'c3', 'c7']"
      ]
     },
     "execution_count": 15,
     "metadata": {},
     "output_type": "execute_result"
    }
   ],
   "source": [
    "HSC.obs['LSK_clusters']"
   ]
  },
  {
   "cell_type": "code",
   "execution_count": 16,
   "id": "b13740a9",
   "metadata": {},
   "outputs": [],
   "source": [
    "prot.obs['LSK_clusters'] = rna.obs['LSK_clusters']"
   ]
  },
  {
   "cell_type": "code",
   "execution_count": 17,
   "id": "959e47c9",
   "metadata": {},
   "outputs": [],
   "source": [
    "prot_id_HSC = np.where(np.isin(prot.obs['LSK_clusters'], ['c1', 'c3','c7']))[0]"
   ]
  },
  {
   "cell_type": "code",
   "execution_count": 18,
   "id": "7a121e72",
   "metadata": {},
   "outputs": [],
   "source": [
    "HSCprot = sc.AnnData(X= prot.X[prot_id_HSC, :], \n",
    "                         obs = prot.obs.iloc[prot_id_HSC, :], \n",
    "                        var = prot.var)\n",
    "HSCprot.obsm['X_pca'] = prot.obsm['X_pca'][prot_id_HSC, :]\n",
    "HSCprot.obsm['X_umap'] = prot.obsm['X_umap'][prot_id_HSC, :]"
   ]
  },
  {
   "cell_type": "code",
   "execution_count": 19,
   "id": "7b51a7dc",
   "metadata": {},
   "outputs": [],
   "source": [
    "# Remove any unused categories\n",
    "HSCprot.obs['LSK_clusters'] = HSCprot.obs['LSK_clusters'].cat.remove_unused_categories()"
   ]
  },
  {
   "cell_type": "code",
   "execution_count": 20,
   "id": "ed7392cd",
   "metadata": {},
   "outputs": [
    {
     "data": {
      "text/plain": [
       "AAACCCAAGGAAAGAC-1    c1\n",
       "AAACCCACAGTCACGC-1    c7\n",
       "AAACCCATCAAGTGTC-1    c1\n",
       "AAACCCATCAGACCGC-1    c1\n",
       "AAACCCATCCAGTACA-1    c7\n",
       "                      ..\n",
       "TTTGATCGTCGTTTCC-1    c3\n",
       "TTTGGAGAGAGCAGAA-1    c1\n",
       "TTTGGTTAGGGAACAA-1    c3\n",
       "TTTGTTGCACTTGAAC-1    c7\n",
       "TTTGTTGTCTCATTGT-1    c1\n",
       "Name: LSK_clusters, Length: 2782, dtype: category\n",
       "Categories (3, object): ['c1', 'c3', 'c7']"
      ]
     },
     "execution_count": 20,
     "metadata": {},
     "output_type": "execute_result"
    }
   ],
   "source": [
    "HSCprot.obs['LSK_clusters']"
   ]
  },
  {
   "cell_type": "markdown",
   "id": "607a3322",
   "metadata": {},
   "source": [
    "## Figure S2F"
   ]
  },
  {
   "cell_type": "code",
   "execution_count": 84,
   "id": "1a35e87e",
   "metadata": {},
   "outputs": [
    {
     "data": {
      "image/png": "[encoded data removed]",
      "text/plain": [
       "<Figure size 143.44x240 with 1 Axes>"
      ]
     },
     "metadata": {
      "image/png": {
       "height": 242,
       "width": 108
      }
     },
     "output_type": "display_data"
    }
   ],
   "source": [
    "ax = sc.pl.violin(prot, 'CD117', \n",
    "                  groupby='LSK_clusters',   order=['c1', 'c3' ,'c7'],  \n",
    "                  show=False  # Do not display the plot immediately\n",
    "                 )\n",
    "\n",
    "# Remove the legend\n",
    "ax.legend_.remove()\n",
    "\n",
    "# Save the figure as a PDF\n",
    "#plt.savefig(\"Grimes_HSC_CD117.pdf\", format=\"pdf\")\n",
    "\n",
    "# Now display the plot\n",
    "plt.show()"
   ]
  },
  {
   "cell_type": "code",
   "execution_count": 22,
   "id": "1f57733a",
   "metadata": {
    "scrolled": true
   },
   "outputs": [
    {
     "name": "stdout",
     "output_type": "stream",
     "text": [
      "computing PCA\n",
      "    with n_comps=50\n",
      "    finished (0:00:00)\n"
     ]
    }
   ],
   "source": [
    "rng = np.random.RandomState(42)\n",
    "sc.tl.pca(HSC, svd_solver='arpack', random_state=rng)"
   ]
  },
  {
   "cell_type": "code",
   "execution_count": 23,
   "id": "9536b60e",
   "metadata": {
    "scrolled": true
   },
   "outputs": [
    {
     "data": {
      "image/png": "[encoded data removed]",
      "text/plain": [
       "<Figure size 320x320 with 1 Axes>"
      ]
     },
     "metadata": {
      "image/png": {
       "height": 321,
       "width": 308
      }
     },
     "output_type": "display_data"
    }
   ],
   "source": [
    "sc.pl.pca_variance_ratio(HSC, log=True)"
   ]
  },
  {
   "cell_type": "code",
   "execution_count": 24,
   "id": "037fdab0",
   "metadata": {},
   "outputs": [],
   "source": [
    "import leidenalg"
   ]
  },
  {
   "cell_type": "code",
   "execution_count": 25,
   "id": "7649dd6d",
   "metadata": {
    "scrolled": true
   },
   "outputs": [
    {
     "name": "stdout",
     "output_type": "stream",
     "text": [
      "computing neighbors\n",
      "    using 'X_pca' with n_pcs = 12\n"
     ]
    },
    {
     "name": "stderr",
     "output_type": "stream",
     "text": [
      "OMP: Info #276: omp_set_nested routine deprecated, please use omp_set_max_active_levels instead.\n"
     ]
    },
    {
     "name": "stdout",
     "output_type": "stream",
     "text": [
      "    finished: added to `.uns['neighbors']`\n",
      "    `.obsp['distances']`, distances for each pair of neighbors\n",
      "    `.obsp['connectivities']`, weighted adjacency matrix (0:00:01)\n"
     ]
    }
   ],
   "source": [
    "sc.pp.neighbors(HSC, n_neighbors=10, n_pcs=12)"
   ]
  },
  {
   "cell_type": "code",
   "execution_count": 26,
   "id": "40dafb02",
   "metadata": {
    "scrolled": true
   },
   "outputs": [
    {
     "name": "stdout",
     "output_type": "stream",
     "text": [
      "running Leiden clustering\n"
     ]
    },
    {
     "name": "stderr",
     "output_type": "stream",
     "text": [
      "/var/folders/rj/b218xr0s4qvdw1k7xjkdq21125c853/T/ipykernel_10440/2960030358.py:2: FutureWarning: In the future, the default backend for leiden will be igraph instead of leidenalg.\n",
      "\n",
      " To achieve the future defaults please pass: flavor=\"igraph\" and n_iterations=2.  directed must also be False to work with igraph's implementation.\n",
      "  sc.tl.leiden(HSC, resolution=resolution_parameter, random_state=42,\n"
     ]
    },
    {
     "name": "stdout",
     "output_type": "stream",
     "text": [
      "    finished: found 9 clusters and added\n",
      "    'leiden_0.5', the cluster labels (adata.obs, categorical) (0:00:00)\n",
      "running Leiden clustering\n",
      "    finished: found 8 clusters and added\n",
      "    'leiden_0.6', the cluster labels (adata.obs, categorical) (0:00:00)\n",
      "running Leiden clustering\n",
      "    finished: found 11 clusters and added\n",
      "    'leiden_0.7', the cluster labels (adata.obs, categorical) (0:00:00)\n",
      "running Leiden clustering\n",
      "    finished: found 10 clusters and added\n",
      "    'leiden_0.8', the cluster labels (adata.obs, categorical) (0:00:00)\n"
     ]
    }
   ],
   "source": [
    "for resolution_parameter in [0.5, 0.6, 0.7, 0.8]:\n",
    "    sc.tl.leiden(HSC, resolution=resolution_parameter, random_state=42, \n",
    "                        key_added='leiden_'+str(resolution_parameter))"
   ]
  },
  {
   "cell_type": "code",
   "execution_count": 28,
   "id": "e56b7f43",
   "metadata": {},
   "outputs": [],
   "source": [
    "str6='Igf1\tInhba\tPdgfc\tCyp26b1\tRian\tNdnf\tDnm3\tChil5\tMeis2\tShisa9\tMeg3\t9530026P05Rik\tGbp4\tGbp9\tChrm3\tBank1\tAhnak\tNcam2\tGbp6\tNeo1\tGlis3\tIgf2bp2\tAgbl1\tHoxb6\tGm28905\t4933406I18Rik\tHid1\tGbp8\tPkhd1l1\tSult1a1\tF830016B08Rik\tGm4951\tNav3\tNrg4\tSetbp1\tMmp28\tPlekhg1\tMyof\tPpargc1a\tRunx1t1\tIigp1\tPgr\tSox5\tRarb\tAbcb1a\tClec1a\tPpp2r2b\tKsr2\tProcr\tIfitm7\tCd74\tSbf2\tMmp16\tIl1rapl2\tGm46210\tGm46515\tIfi44\tHif3a\tPtprk\tSgsm1\tDennd2a\tLtb\tRin2\tJam2\tCpeb3\tGm12185\tTriqk\tAblim1\tMagi2\tGimap5\tLy6a\tNr3c2\tPrex2\tMettl7a1\tGm973\tPlcl1\tGimap8\tTecpr1\tSlc16a9\tAbcg3\tCpne8\tGm4070\tKlhl4\tSt8sia4\tFgd5\tGvin1\tPde2a\tRhoj\tEntpd1\tAcer2\tPclo\tPdgfd\tLancl3\tSlfn5\tMamdc2\tPtpn14\tGbp5\tMs4a6b\tMettl27\tLdb2\tCd247\tMap3k8\tTnip3\tGm17473\tArid5b\tA330023F24Rik\tOasl2\tHoxa3\tLbp\tEmcn\tArntl\tCnrip1\tE230032D23Rik\tMirt1\tSpaca6\tNsun7\tSorbs2\tNotch1\tMill2\tUnc13b\tAirn\tEvi5\tLhcgr\tN4bp2l1\tRgl1\tIl2rg\tNpas3\tHivep3\tKlhl3\tGm20559\t2310001H17Rik\tFam135a\tTrim34a\tTox\tZfp831\tSytl5\tBend7\tHoxb3\tGm17276\tPou2f2\tShisa5\tAlcam\tAnxa6\tFam169b\tZfp467\tHacd4\tNrk\t0610043K17Rik\tNeurl3\tTmem71\tTcp11l2\tCamk2d\tGm16070\tPalld\tDennd1c\tCyp2j6\tZc3h6\tThsd4'\n",
    "q_HSC= str6.split('\t')"
   ]
  },
  {
   "cell_type": "code",
   "execution_count": 29,
   "id": "f0fba643",
   "metadata": {},
   "outputs": [],
   "source": [
    "str7= 'Fosb\tFos\tNfkbiz\tSik1\tCytip\tGm19590\tCoq10b\tRgs1\tStk17b\tRel\tCreb5\tJunb\tMyl10\tZfp831\tClnk\tDok6\tSkil\tTiparp\tSox6\tRgs2\tGm29946\tCsf3r\tFlt3\tGm26802\tGm26887\tC030034L19Rik\tFgfr1\tRnf150\tIl18rap\tPhldb2\tZc3h12a\tRmnd5b\tPlaur\tPaqr8\tBcl6\tDhrs11\tSlc28a2\tNr4a1\tTaf13\tTgif1\tKcnk12\tDusp6\tGm10563\tMirt1\tArid5b\tDusp1\tEsr1\tKlf4\tEgr1\tZfp36\tKlf6\tWdfy2\tKlf2\tHist1h2ac\tCtsl\tHist1h2bc\tSqstm1\tPaqr5'\n",
    "MgK_HSC= str7.split('\t')"
   ]
  },
  {
   "cell_type": "code",
   "execution_count": 30,
   "id": "e286a02d",
   "metadata": {},
   "outputs": [],
   "source": [
    "str8= 'Itga2b\tPlek\tSlc22a3\tAdgrl1\tTgfb1\tNucks1\tH2afz\tFyb\tRunx3\tYbx3\tStmn1\tBaz1a\tNol4l\tHdgf\tRab27b\tHmgb2\tMki67\tPf4\tCavin2\tHspd1\tIpo5\tAI504432\tLdha\tHnrnpab\tOxct1\tVcl\tRanbp1\tZfpm1\tIpo7\tPcna\tPa2g4\tNrgn\tPde5a\tSlc16a10\tSlc24a3\tVwf\tRan\tArhgap10\tNop56\tAlyref\tKnl1\tE2f8\tSlc9a9\tMvb12b\tDgkd\tSlc25a5\tBmp2k\tEtfb\tSlc14a1\t11-Sep\tAnp32e\tNolc1\tRpn1\tDkc1\tActn4\tAk2\tNaa50\tF2r\tSntb1\tSpidr\tMfsd2b\tHspe1\tPlcb1\tNomo1\tPaics\tPpat\tKalrn\tSla\tAsap2\tDtymk\tC1galt1\tHist1h2ap\tTanc1\tAI506816\tFoxk2\tCpsf2\tMid1\tPpfia1\tRangap1\tPdss1\tNme1\tEif3b\tHmgb3\tNup205\tCox5a\tSnrpd1\tMob1b\tLrrc8b\tSsrp1\tHpf1\tHaus6\tPde10a\tCox6a1\tAgpat5\tKhsrp\tNup155\tPpp1r14b\tMthfd1\tCep295\tMyom1\tYwhah\tPtpn7\tC1qbp\tSema4d\tNav1\tHmgn2\tLin54\tP3h2\tHmgn5\tCct7\tHsph1\tNudc\tCdyl\tFbl\tSlc20a1\tCacybp\tStip1\tPdap1\tNcoa3\tDpy19l1\tMe2\tPpm1g\tRfwd3\tCrip1\tOrc2\tAnln\tUbtf\tAbracl\tSnhg4\tInpp5a\tPdia6\tKif11\tParp1\tUba2\tVdac1\tPtger3\tRaly\tDepdc1b\tDnajc2\tCkap2l\tDnajc6\tSrm\tNup107\tBanf1\tBora\tSiva1\tNckap1\tNoc2l\tNup50\tAtp1b3\tCd9\tHist1h1b\tSacs\tUnc119\tLrp8\tHist1h2ae\tCox5b\tTex9\tUbxn2a\tSumo3\tSnrpd3\tNhp2\tDot1l\tKmt5a\tEftud2\tPpp1ca\tFoxn2\tMre11a\tHeatr1\tEtaa1\tPfas\tCdk4\tTada2a\tIncenp\tAtp5g1\tFkbp4\tTmem14c\tDdx1\tDynll1\tArl6ip6\tTpi1\tMdm1\tGart\tRpn2\tMrpl12\tPrmt1\tMad1l1\tRnf219\tAtp5o\tNdufb7\tDipk2a\tDnajb11\tManf\tP4hb\tTrim28\tNdrg1\tBcl7a\tNcbp1\tSlc16a1\tAbcb4\tKif4\tTmod1\tP2ry1\tUmps\tTmem123\tCdca2\tMdh2\tLockd\tCad\tCcdc34\tChsy3\tCcdc88c\tH2afj\tKsr1\tExoc3l2\tCenpe\tJpt1\tCd180\tRasgrp2\tXndc1\tExosc8\tRexo2\tNdufab1\tPhb2\tFbxo5\tHigd1a\tLyar\tBola2\tMis18bp1\tDusp3\tDpy30\tRobo3\tLhfp\tAdcy6\tTimm13\tAtad3a\tAtp5k\tNifk\tSnrpa1\tTuba4a\tRrm2\tDdx27\tGalk1\tAche\tEsco2\tNudcd2\tSpcs3\tCycs\tExosc2\tHemgn\tPik3cb\tBag1\tTrmt6\tSf3a3\tMphosph10\tLsm12\tNcaph2\tEif3g\tP2ry14\tCoro1c\tUsp39\tOlfr417\tCisd1\tCsrp1\tTbc1d31\tIdh3a\tSnhg3\tGucy1b1\tCkap2\tMrpl18\tPsmb5\tNop2\tCcnd1\tPrc1\tE2f6\tNup133\tShmt2\tChsy1\tAgfg2\tCdk2\tExosc5\tExosc1\tPbk\tAqp1\tRnaseh2c\tAmd1\tSlc7a5\tGar1\tSf3b5\tPolr2f\tSf3a1\tFabp5\tBub1\tTex30\tUpf1\tMastl\tMgat2\tZdhhc14\tAp2s1\tTuba8\tHist1h1d\tPsmg2\tGps1\tCalm3\tLsm6\tCcdc25\tDdx11\tLsm2\tUsp31\tPprc1\tUbe2m\tAlg8\tTimp3\tEdem1\tDynll2\t8-Sep\tTomm5\tNarf\tPhf5a\tCnst\tKif18a\tArhgap11a\tHyou1\tGfi1b\tUqcc2\tSnca\tZfp948\tCdca8\tArhgdia\tPdcd5\tDdx39\tMrpl14\tInip\tPsmd13\tMyo10\tMrpl57\tCks2\tKlhl23\tNdufc1\tSamd1\tMrpl36\tThap12\tMad2l1\tHist1h1a\tCcdc57\tUbash3a\tDlg3\tPrpf19\tSox12\tOstm1\tApex1\tEndod1\tAtp6v0a2\tFtsj3\tCdk2ap1\tSmdt1\tP2ry12\tDbf4\tH1fx\tSsx2ip\tLtbp1\tMydgf\tMrpl19\tSsbp4\tBcl2l1\tEbna1bp2\tGlrx5\tPms2\tPpif\tXpnpep1\tStub1\tAbcf2\tCenpf\tE2f4\tSnrpb2\tNdufs6\tNuf2\tLrrc20\tTmem160\tDdost\tThoc3\tIfi47\tPsme3\tGp5\tPolr3g\tFasn\tAlg6\tCenpu\tCd3eap\tGm45353\tHist2h2ac\tGata1\tZfp462\tSdf2l1\tDpf3\tPsmc5\tCiao2a\tPold2\tMrpl51\tMelk\tE2f2\tNdufa11\tNsl1\tSart3\tIl12a\tPls1\tActn1\tDhx29\tBag4\tSmpd4\tH2afx\tZfp385a\tFmc1\tPole3\tHdgfl2\tTnk2\tCluh\tEhd3\tPolh\tEif6\tItpa\tNkg7\tS100a1\tMrpl20\tOptn\tBicd2\tMrpl28\tIfrd2\tPpp1r8\tPpm1e\tCreld2\tLap3\tAunip\tPfdn6\tTomm22\tZfp692\tHist1h3e\tNans\tQdpr\tHist1h3a\tMgll\tBola3\tNdufb6\tGemin8\tRbfa\tTimm8a1\tUtp3\tFh1\tHist1h3c\tPrps2\tKdelr2\tRuvbl2\tRadx\tPdik1l\tRrp8\tRcc1\tBlvra\tAspm\tAsf1b\tArrb2\t0610010K14Rik\tVav2\tAp1s1\tCry1\tHmbs\tRbpms2\tGm42047\tMogs\tCep76\tRnasek\tPsmc4\tAen\tPrelid3b\tGm1968\tBend4\tMrps26\tSlc35b1\tFkbp11\tRpap3\tGadd45gip1\tCenpx\tTimm50\tSdhd\tBirc5\tCenpn\tMthfd2\tPsmd3\tPelp1\tRtca\tCnih1\tMrto4\tCotl1\tSf3a2\tTtf2\tCdc34\tSpag5\tRpa3\tYdjc\tCcna2\tHist1h2bj\tExosc3\tSteap3\tNelfe\tMbd3\tGcsh\tNxt1\tIsyna1\tNusap1\tTbcb\tDclre1a\tPdia5\tEif1ad\tBop1\tCdkn2aipnl\tTwf2\tKif14\tNoct\tTreml1\tDsn1\tGrpel1\tUfsp1\tWdr62\tYif1b\tLetm1\tParm1\tFam78a\tCiapin1\tPpih\tNt5dc2\tHaus8\tHist1h4a\tRtel1\tEmid1\tAars\tCenpw\tCinp\tD130058E05Rik\tSerpine2\tAp2a1\tGen1\tLhfpl2\tArl6ip4\tAlad\tHspa1b\tSmco4\tSmim5\tDepdc1a\tInts11\tCipc\tSuv39h2\tMfsd10\tKnstrn\tSgo2a\tTmem97\tGm36975\tSka3\tMars\tBax\tLactb\tTaf5\tCpsf4\tGpaa1\tStoml2\tLmnb2\tNop16\tGpd1l\tCnr2\tMrpl38\tHist1h4h\tEspl1\t2700038G22Rik\tMis12\tRrs1\tPin1\tSerpinb1a\tTube1\tFmnl3\tTsfm\tNup62\tChtf18\tTimm17b\tHist1h2bn\tErcc6l\tPus1\tSumf1\tDnaaf2\tRnf126\tBccip\tNde1\tAdrm1\tLitaf\tNop9\tAss1\tCmc2\tTufm\tAurkb\tNmral1\tGnaz\tRgs10\tF5\tHist1h2ak\tSpdl1\tMllt1\tTbxa2r\tMrps23\tMycbp\tVegfb\tDennd2c\tLat\tParpbp\tPcyt1b\tSnhg4-1\tNenf\tHist1h2bb\tSs18l2\tCap2\tAkip1\tFem1a\tNutf2\tPsmg3\tDegs1\tKif22\tRacgap1\tTmem39b\tElof1\tBysl\tMmgt1\tBola1\tBC030867\tCcdc134\tSka1\tGolt1b\tHist1h2ab\tPno1\tTubg1\tAcap3\tWdr74\tEbp\tFdps\tGm17092\tGas2\tCactin\tMtmr4\tCcdc124\tGtf3c5\tHist1h2bg\tMfap3l\tReep2\tNudt1\tCcnf\tPard6g\tPlekha7\tIcam4\tRbmx2\tLsm11\tAdgrg2\tDok2\tA430005L14Rik\tCndp2\tCcdc115\tMt1\tHist2h2bb\tHaspin\tCtnnbip1\tRdh13\tPolr2l\tPdgfb\tSlc9a7\tGm26652\tSlc35a4\tLmna\tAk6\tHmmr\tStx11\tFoxred1\tIft27\tTpm4\tSamd14\tKifc1\tSlc35d3\tTbl3\tHist1h3i\tAnapc15\tJagn1\tHist2h2aa1\tPoc1a\tRbm15b\tGp9\tHaus7\tSf3b4\tAdo\tSlc35f2\tArap3\tThop1\tMetrn\tHist1h2br\tBtbd11\tPradc1\tCcne1\tF2rl2\tKlhdc4\tJcad\tCib1\tSlc25a39\tHist1h2an\tUbl4a\tSec22c\tProser2\tPsmc3ip\tHist1h4i\tMrps11\tBend3\tBin1\tCcdc22\tGrwd1\tTbl2\tHras\tCenpl\tCcbe1\tEpor\t2610318N02Rik\tNup43\tEme1\tDus1l\tHist1h2af\tLrr1\tSlc35b2\tNubp1\tD030056L22Rik\t1700037H04Rik\tNudt19\tGm29050\tThoc6\tArf2\tHspa1a\tItgb2\tCdca4\tXrcc2\tSlc35g1\tWrap53\t2310061I04Rik\tSnrnp25\tCoq7\tGm2245\tRtn4ip1\tGarem1\t9230114K14Rik\tZfp593\tPolr2d\tEnkd1\tF630028O10Rik\tTedc1\tKpna2\tHist1h2bm\t9130401M01Rik\tTrim58\tHgh1\tCes2g\tMrpl49\tTmem158\tAsns\tHist1h3f\tEpdr1\tGm47545\tWdr55\tSptb\tTmem107\t'\n",
    "MLin_HSC= str8.split('\t')"
   ]
  },
  {
   "cell_type": "code",
   "execution_count": 31,
   "id": "4550c38c",
   "metadata": {},
   "outputs": [],
   "source": [
    "str9= 'Cdk6\tSlc22a3\tNol4l\tBcl2\tDnajc6\tFyb\tTgfb1\tTgfbr3\tItga2b\tPlek\tRunx3\tBaz1a\tF2r\tHdgf\tMuc13\tYbx3\tTnik\tMcm6\tDdx21\tTopbp1\tPola1\tApoe\tZfpm1\tAdgrl1\tPrkdc\tAI504432\tMfsd2b\tNrgn\tUbash3b\tSnx5\tSyk\tDkc1\tAtpif1\tLgals9\tEif5a\tIpo7\tSfxn1\tMob1b\tAk2\tSema4d\tPtpn7\tMcm3\tMdga1\tRcc2\tDnmt1\tDtl\tRgs1\tEtfb\tOxct1\tBtg2\tCdca7\tMicos10\tAdgrg3\tMthfd1l\tAlms1\tEif4e\tKras\tNomo1\tSlc25a5\tLdha\tNme1\tFam133b\tVcl\tPrim2\tHmgb3\tRan\tPa2g4\tTwistnb\tVps37b\tNop56\tTbcd\tMcm2\tDut\tLrrc8c\tSnrpf\tMid1\tUtp18\tMcm4\tNdrg1\tHist1h2ae\tCpsf2\tNasp\tPf4\tCdv3\tSnrpd1\tLig1\tSpns3\tLmnb1\tGclm\tWdhd1\tPus7\tAsap2\tHeatr1\tTbc1d1\tSlc16a10\tTnfaip2\tOlfr417\tBmp2k\tSlc24a3\tUbxn2a\tFoxk2\tHist1h2ap\tHells\tDynll1\tPpm1g\tP3h2\tSacs\tKat7\tGtpbp1\tClic4\tSlc20a1\tNolc1\tNaf1\tMcm7\tPlac8\tCavin2\tMapkapk2\tMcm5\tPrim1\tAtad5\tCoro1c\tCox5a\tPsmb5\tAbcb4\tAimp1\tTrim28\tNdufa13\tCacybp\tRpn2\tSnrpa1\tFbl\tCsgalnact2\tC1qbp\tGata1\tSlc9a9\tTipin\tPrep\tParp1\tFoxn2\t4930519L02Rik\tTfrc\tSnhg4\tTmod1\tCtps\tBola2\tCd180\tCrip1\tDusp3\tPpp1ca\tAbracl\tUsp1\tSkil\tCks2\tPsmd4\tKmt5a\tSmad7\tRobo3\tTimeless\tEsyt1\tWdr76\tNarf\tPpan\tInts2\tCalm3\tEzr\tPpp1r14b\tDyrk3\tPhf5a\tKars\tPak1ip1\tRgcc\tDpf2\tHmgn5\tCdkn2aip\tRipor1\tMta2\tPole2\tCops9\tLrrc8b\tRnf19b\tLsm4\tMrpl19\tHemgn\tAqp1\tNcbp1\tP2ry12\tEbna1bp2\tExosc1\tSynpo2\tSntb1\tSlamf1\tE2f1\tLsm12\tBanf1\tGm26542\tPsmd8\tD10Wsu102e\tDctpp1\tBri3bp\tZfp385a\tSyce2\tPolr1b\tMe2\tCdc25a\tMki67\tDpf3\tMyc\tBrpf1\tRnaseh2b\tUbxn1\tEif3g\tNdufa1\tHist1h1d\tTex30\tCuta\tAtf3\tFabp5\tSlc25a25\tMicall2'\n",
    "Int_HSC= str9.split('\t')"
   ]
  },
  {
   "cell_type": "code",
   "execution_count": 32,
   "id": "1614e9f4",
   "metadata": {},
   "outputs": [],
   "source": [
    "str10 = 'Ranbp17\tZfp808\tJazf1\tRapgef5\tNeto2\t1700025G04Rik\tZfp934\tMpdz\t9330182L06Rik\tArsb\tDdb2\tStard13\tCcdc138\tLair1\tDock3\tSh3d19\tD630045J12Rik\tMbd4\tFoxd2os\tCacna1d\tMyh10\tGli3\tSmyd4\tSpice1\tGatm\tNova1\tCenpv\t4930452B06Rik\tEct2\tEvl\tPlp2\tPrkd1\tGnb1l\tIfit2\tFam114a1\tTshz3\tTmtc4\tTpst1\tCarmil2\tBcl2l11\tZc3hav1l\tDcbld2\tHaus1\tPhf19\tCrybg3\tDisc1\tUbe2t\tSaal1\tRaph1\tSrl\tNefh\tDsg2\tCntrob\tShtn1\tSnx7\t2810429I04Rik\tCxcr4\tSlc36a4\tSyt9\tSlc29a1'\n",
    "p_HSC= str10.split('\t')"
   ]
  },
  {
   "cell_type": "code",
   "execution_count": 33,
   "id": "9a7b9656",
   "metadata": {
    "collapsed": true
   },
   "outputs": [
    {
     "name": "stdout",
     "output_type": "stream",
     "text": [
      "computing score 'q_HSC'\n",
      "WARNING: genes are not in var_names and ignored: Index(['Rian', 'Gbp6', 'Gm28905', 'Gm46210', 'Gm46515', 'Mettl27',\n",
      "       'A330023F24Rik', 'E230032D23Rik', 'Npas3', 'Gm20559'],\n",
      "      dtype='object')\n",
      "    finished: added\n",
      "    'q_HSC', score of gene set (adata.obs).\n",
      "    1039 total control genes are used. (0:00:00)\n",
      "computing score 'MgK_HSC'\n",
      "WARNING: genes are not in var_names and ignored: Index(['Gm29946', 'Gm10563'], dtype='object')\n",
      "    finished: added\n",
      "    'MgK_HSC', score of gene set (adata.obs).\n",
      "    994 total control genes are used. (0:00:00)\n",
      "computing score 'MLin_HSC'\n",
      "WARNING: genes are not in var_names and ignored: Index(['Cavin2', 'Knl1', '11-Sep', 'AI506816', 'Hpf1', 'Snhg4', 'Kmt5a',\n",
      "       'Dipk2a', 'Jpt1', 'Olfr417', 'Snhg3', 'Gucy1b1', '8-Sep', 'Thap12',\n",
      "       'Ltbp1', 'Gm45353', 'Ciao2a', 'Fmc1', 'Hdgfl2', 'Radx', 'Gm42047',\n",
      "       'Prelid3b', 'Gm1968', 'Cenpx', 'D130058E05Rik', 'Ints11', 'Sgo2a',\n",
      "       'Gm36975', 'Snhg4-1', 'Ss18l2', 'Haspin', 'Hist1h2br', 'Jcad', 'Ccbe1',\n",
      "       'Garem1', '9230114K14Rik', 'Tedc1', 'Gm47545', ''],\n",
      "      dtype='object')\n",
      "    finished: added\n",
      "    'MLin_HSC', score of gene set (adata.obs).\n",
      "    1146 total control genes are used. (0:00:00)\n",
      "computing score 'Int_HSC'\n",
      "WARNING: genes are not in var_names and ignored: Index(['Micos10', 'Olfr417', 'Cavin2', 'Snhg4', 'Kmt5a', 'Ripor1', 'Cops9'], dtype='object')\n",
      "    finished: added\n",
      "    'Int_HSC', score of gene set (adata.obs).\n",
      "    1132 total control genes are used. (0:00:00)\n",
      "computing score 'p_HSC'\n",
      "WARNING: genes are not in var_names and ignored: Index(['Foxd2os', 'Carmil2'], dtype='object')\n",
      "    finished: added\n",
      "    'p_HSC', score of gene set (adata.obs).\n",
      "    1098 total control genes are used. (0:00:00)\n"
     ]
    }
   ],
   "source": [
    "sc.tl.score_genes(HSC, gene_list = q_HSC,  score_name='q_HSC', use_raw=False)\n",
    "sc.tl.score_genes(HSC, gene_list = MgK_HSC,  score_name='MgK_HSC', use_raw=False)\n",
    "sc.tl.score_genes(HSC, gene_list = MLin_HSC,  score_name='MLin_HSC', use_raw=False)\n",
    "sc.tl.score_genes(HSC, gene_list = Int_HSC,  score_name='Int_HSC', use_raw=False)\n",
    "sc.tl.score_genes(HSC, gene_list = p_HSC,  score_name='p_HSC', use_raw=False)"
   ]
  },
  {
   "cell_type": "code",
   "execution_count": 53,
   "id": "beea21ba",
   "metadata": {},
   "outputs": [],
   "source": [
    "# using exact match\n",
    "HSC.obs['Elias_annotations'] = ['q-HSC' if (x=='1' or x=='6' or x=='5' or x=='0') else \n",
    "                                 'MgK-HSC' if (x=='3' ) else\n",
    "                                 'MLin-HSC'if (x=='4' ) else \n",
    "                                 'Int-HSC' if (x=='2') else\n",
    "                                 'p-HSC'   if (x=='7') else\n",
    "                                'ERROR' for x in HSC.obs['leiden_0.6']] "
   ]
  },
  {
   "cell_type": "code",
   "execution_count": 54,
   "id": "5d2da1cb",
   "metadata": {},
   "outputs": [],
   "source": [
    "HSCprot.obs['Elias_annotations'] = HSC.obs['Elias_annotations']"
   ]
  },
  {
   "cell_type": "markdown",
   "id": "6983e52c",
   "metadata": {},
   "source": [
    "## Subset HSCs based on ADT_CD117"
   ]
  },
  {
   "cell_type": "code",
   "execution_count": 57,
   "id": "fe9754ba",
   "metadata": {},
   "outputs": [],
   "source": [
    "HSCprot.obs['KIT'] = pd.DataFrame(HSCprot.X, columns=HSCprot.var.index)['CD117'].values"
   ]
  },
  {
   "cell_type": "code",
   "execution_count": 58,
   "id": "9bb25081",
   "metadata": {},
   "outputs": [],
   "source": [
    "KIT = HSCprot.obs['KIT'].values"
   ]
  },
  {
   "cell_type": "code",
   "execution_count": 59,
   "id": "c6665800",
   "metadata": {},
   "outputs": [
    {
     "data": {
      "text/plain": [
       "array([21.89331 , 17.471136, 13.910657, ..., 21.344564,  8.320223,\n",
       "        9.77121 ], dtype=float32)"
      ]
     },
     "execution_count": 59,
     "metadata": {},
     "output_type": "execute_result"
    }
   ],
   "source": [
    "KIT"
   ]
  },
  {
   "cell_type": "code",
   "execution_count": 60,
   "id": "af565342",
   "metadata": {},
   "outputs": [],
   "source": [
    "percentile_30 = np.percentile(KIT, 30)\n",
    "percentile_70 = np.percentile(KIT, 70)"
   ]
  },
  {
   "cell_type": "code",
   "execution_count": 61,
   "id": "5274fabc",
   "metadata": {},
   "outputs": [],
   "source": [
    "KIT_30 = [None]*HSCprot.shape[0]\n",
    "for j, expression_value in enumerate(KIT):\n",
    "    if   expression_value < percentile_30:\n",
    "         KIT_30 [j] = \"Low\"\n",
    "    elif expression_value <= percentile_70:\n",
    "         KIT_30[j] = \"Mid\"\n",
    "    else:\n",
    "         KIT_30[j] = \"High\""
   ]
  },
  {
   "cell_type": "code",
   "execution_count": 62,
   "id": "4a3ea1bc",
   "metadata": {},
   "outputs": [],
   "source": [
    "HSCprot.obs['KIT_30'] = KIT_30\n",
    "HSC.obs['KIT_30'] = KIT_30"
   ]
  },
  {
   "cell_type": "code",
   "execution_count": 73,
   "id": "386d5105",
   "metadata": {},
   "outputs": [],
   "source": [
    "# Function to extract counts from AnnData object\n",
    "def extract_cell_type_counts(adata, group_key, cell_type_key):\n",
    "    \"\"\"\n",
    "    Extract counts of each cell type across groups from AnnData object\n",
    "    \n",
    "    Parameters:\n",
    "    adata (AnnData): AnnData object containing single-cell data\n",
    "    group_key (str): Key in adata.obs for group information (e.g., 'KIT_30')\n",
    "    cell_type_key (str): Key in adata.obs for cell type annotations\n",
    "    \n",
    "    Returns:\n",
    "    DataFrame: Count of cells in each cell type for each group\n",
    "    \"\"\"\n",
    "    # Ensure the required annotations exist\n",
    "    if group_key not in adata.obs.columns:\n",
    "        raise ValueError(f\"Group key '{group_key}' not found in adata.obs\")\n",
    "    if cell_type_key not in adata.obs.columns:\n",
    "        raise ValueError(f\"Cell type key '{cell_type_key}' not found in adata.obs\")\n",
    "    \n",
    "    # Create a contingency table of counts\n",
    "    count_df = pd.crosstab(adata.obs[cell_type_key], adata.obs[group_key])\n",
    "    \n",
    "    # Filter for just High and Low if other values exist\n",
    "    if 'High' in count_df.columns and 'Low' in count_df.columns:\n",
    "        count_df = count_df[['High', 'Low']]\n",
    "    \n",
    "    return count_df"
   ]
  },
  {
   "cell_type": "code",
   "execution_count": 75,
   "id": "13001624",
   "metadata": {},
   "outputs": [
    {
     "data": {
      "text/html": [
       "<div>\n",
       "<style scoped>\n",
       "    .dataframe tbody tr th:only-of-type {\n",
       "        vertical-align: middle;\n",
       "    }\n",
       "\n",
       "    .dataframe tbody tr th {\n",
       "        vertical-align: top;\n",
       "    }\n",
       "\n",
       "    .dataframe thead th {\n",
       "        text-align: right;\n",
       "    }\n",
       "</style>\n",
       "<table border=\"1\" class=\"dataframe\">\n",
       "  <thead>\n",
       "    <tr style=\"text-align: right;\">\n",
       "      <th>KIT_30</th>\n",
       "      <th>High</th>\n",
       "      <th>Low</th>\n",
       "    </tr>\n",
       "    <tr>\n",
       "      <th>Elias_annotations</th>\n",
       "      <th></th>\n",
       "      <th></th>\n",
       "    </tr>\n",
       "  </thead>\n",
       "  <tbody>\n",
       "    <tr>\n",
       "      <th>Int-HSC</th>\n",
       "      <td>195</td>\n",
       "      <td>83</td>\n",
       "    </tr>\n",
       "    <tr>\n",
       "      <th>MLin-HSC</th>\n",
       "      <td>50</td>\n",
       "      <td>135</td>\n",
       "    </tr>\n",
       "    <tr>\n",
       "      <th>MgK-HSC</th>\n",
       "      <td>129</td>\n",
       "      <td>72</td>\n",
       "    </tr>\n",
       "    <tr>\n",
       "      <th>p-HSC</th>\n",
       "      <td>96</td>\n",
       "      <td>15</td>\n",
       "    </tr>\n",
       "    <tr>\n",
       "      <th>q-HSC</th>\n",
       "      <td>365</td>\n",
       "      <td>530</td>\n",
       "    </tr>\n",
       "  </tbody>\n",
       "</table>\n",
       "</div>"
      ],
      "text/plain": [
       "KIT_30             High  Low\n",
       "Elias_annotations           \n",
       "Int-HSC             195   83\n",
       "MLin-HSC             50  135\n",
       "MgK-HSC             129   72\n",
       "p-HSC                96   15\n",
       "q-HSC               365  530"
      ]
     },
     "execution_count": 75,
     "metadata": {},
     "output_type": "execute_result"
    }
   ],
   "source": [
    "counts_df = extract_cell_type_counts(HSC, 'KIT_30', 'Elias_annotations')\n",
    "counts_df"
   ]
  },
  {
   "cell_type": "code",
   "execution_count": 67,
   "id": "cf49774f",
   "metadata": {
    "scrolled": true
   },
   "outputs": [
    {
     "name": "stdout",
     "output_type": "stream",
     "text": [
      "Cell counts extracted:\n",
      "KIT_30             High  Low\n",
      "Elias_annotations           \n",
      "Int-HSC             195   83\n",
      "MLin-HSC             50  135\n",
      "MgK-HSC             129   72\n",
      "p-HSC                96   15\n",
      "q-HSC               365  530\n",
      "Total cells - High: 835, Low: 835\n"
     ]
    }
   ],
   "source": [
    "# Calculate total cells in each group\n",
    "high_total = counts_df['High'].sum()\n",
    "low_total = counts_df['Low'].sum()\n",
    "\n",
    "print(\"Cell counts extracted:\")\n",
    "print(counts_df)\n",
    "print(f\"Total cells - High: {high_total}, Low: {low_total}\")"
   ]
  },
  {
   "cell_type": "code",
   "execution_count": 76,
   "id": "98714f23",
   "metadata": {},
   "outputs": [],
   "source": [
    "# Function to perform Pearson chi-square test for a single cell type\n",
    "def chi2_test_cell_type(cell_type, counts_df, high_total, low_total):\n",
    "    # Create 2x2 contingency table\n",
    "    cell_type_high = counts_df.loc[cell_type, 'High']\n",
    "    cell_type_low = counts_df.loc[cell_type, 'Low']\n",
    "    other_high = high_total - cell_type_high\n",
    "    other_low = low_total - cell_type_low\n",
    "    contingency = np.array([[cell_type_high, cell_type_low],\n",
    "                            [other_high, other_low]])\n",
    "    # Perform Pearson chi-square test\n",
    "    chi2, p_value, dof, expected = stats.chi2_contingency(contingency, correction=False)\n",
    "    # Calculate percentages for reporting\n",
    "    high_percent = (cell_type_high / high_total) * 100\n",
    "    low_percent = (cell_type_low / low_total) * 100\n",
    "    return {\n",
    "        'cell_type': cell_type,\n",
    "        'high_count': cell_type_high,\n",
    "        'low_count': cell_type_low,\n",
    "        'high_percent': high_percent,\n",
    "        'low_percent': low_percent,\n",
    "        'fold_change': (high_percent / low_percent) if low_percent > 0 else float('inf'),\n",
    "        'chi2_stat': chi2,\n",
    "        'p_value': p_value\n",
    "    }\n",
    "# Perform Pearson chi-square tests for each cell type\n",
    "def run_chi2_tests(counts_df):\n",
    "    high_total = counts_df['High'].sum()\n",
    "    low_total = counts_df['Low'].sum()\n",
    "    results = []\n",
    "    for cell_type in counts_df.index:\n",
    "        result = chi2_test_cell_type(cell_type, counts_df, high_total, low_total)\n",
    "        results.append(result)\n",
    "    # Create results DataFrame\n",
    "    results_df = pd.DataFrame(results)\n",
    "    # Set significance threshold\n",
    "    alpha = 0.05\n",
    "    # Format results\n",
    "    results_df['significant'] = results_df['p_value'] < alpha\n",
    "    results_df['diff_percent'] = results_df['high_percent'] - results_df['low_percent']\n",
    "    # Add significance stars\n",
    "    results_df['stars'] = ''\n",
    "    results_df.loc[results_df['p_value'] < 0.05, 'stars'] = '*'\n",
    "    results_df.loc[results_df['p_value'] < 0.01, 'stars'] = '**'\n",
    "    results_df.loc[results_df['p_value'] < 0.001, 'stars'] = '***'\n",
    "    return results_df"
   ]
  },
  {
   "cell_type": "code",
   "execution_count": 78,
   "id": "fa8bab60",
   "metadata": {},
   "outputs": [],
   "source": [
    "from scipy import stats"
   ]
  },
  {
   "cell_type": "code",
   "execution_count": 80,
   "id": "77cb4a6c",
   "metadata": {},
   "outputs": [
    {
     "data": {
      "text/html": [
       "<div>\n",
       "<style scoped>\n",
       "    .dataframe tbody tr th:only-of-type {\n",
       "        vertical-align: middle;\n",
       "    }\n",
       "\n",
       "    .dataframe tbody tr th {\n",
       "        vertical-align: top;\n",
       "    }\n",
       "\n",
       "    .dataframe thead th {\n",
       "        text-align: right;\n",
       "    }\n",
       "</style>\n",
       "<table border=\"1\" class=\"dataframe\">\n",
       "  <thead>\n",
       "    <tr style=\"text-align: right;\">\n",
       "      <th></th>\n",
       "      <th>cell_type</th>\n",
       "      <th>high_count</th>\n",
       "      <th>low_count</th>\n",
       "      <th>high_percent</th>\n",
       "      <th>low_percent</th>\n",
       "      <th>fold_change</th>\n",
       "      <th>chi2_stat</th>\n",
       "      <th>p_value</th>\n",
       "      <th>significant</th>\n",
       "      <th>diff_percent</th>\n",
       "      <th>stars</th>\n",
       "    </tr>\n",
       "  </thead>\n",
       "  <tbody>\n",
       "    <tr>\n",
       "      <th>0</th>\n",
       "      <td>Int-HSC</td>\n",
       "      <td>195</td>\n",
       "      <td>83</td>\n",
       "      <td>23.353293</td>\n",
       "      <td>9.940120</td>\n",
       "      <td>2.349398</td>\n",
       "      <td>54.133796</td>\n",
       "      <td>1.872920e-13</td>\n",
       "      <td>True</td>\n",
       "      <td>13.413174</td>\n",
       "      <td>***</td>\n",
       "    </tr>\n",
       "    <tr>\n",
       "      <th>1</th>\n",
       "      <td>MLin-HSC</td>\n",
       "      <td>50</td>\n",
       "      <td>135</td>\n",
       "      <td>5.988024</td>\n",
       "      <td>16.167665</td>\n",
       "      <td>0.370370</td>\n",
       "      <td>43.919374</td>\n",
       "      <td>3.421849e-11</td>\n",
       "      <td>True</td>\n",
       "      <td>-10.179641</td>\n",
       "      <td>***</td>\n",
       "    </tr>\n",
       "    <tr>\n",
       "      <th>2</th>\n",
       "      <td>MgK-HSC</td>\n",
       "      <td>129</td>\n",
       "      <td>72</td>\n",
       "      <td>15.449102</td>\n",
       "      <td>8.622754</td>\n",
       "      <td>1.791667</td>\n",
       "      <td>18.375888</td>\n",
       "      <td>1.813383e-05</td>\n",
       "      <td>True</td>\n",
       "      <td>6.826347</td>\n",
       "      <td>***</td>\n",
       "    </tr>\n",
       "    <tr>\n",
       "      <th>3</th>\n",
       "      <td>p-HSC</td>\n",
       "      <td>96</td>\n",
       "      <td>15</td>\n",
       "      <td>11.497006</td>\n",
       "      <td>1.796407</td>\n",
       "      <td>6.400000</td>\n",
       "      <td>63.316575</td>\n",
       "      <td>1.760169e-15</td>\n",
       "      <td>True</td>\n",
       "      <td>9.700599</td>\n",
       "      <td>***</td>\n",
       "    </tr>\n",
       "    <tr>\n",
       "      <th>4</th>\n",
       "      <td>q-HSC</td>\n",
       "      <td>365</td>\n",
       "      <td>530</td>\n",
       "      <td>43.712575</td>\n",
       "      <td>63.473054</td>\n",
       "      <td>0.688679</td>\n",
       "      <td>65.548027</td>\n",
       "      <td>5.671488e-16</td>\n",
       "      <td>True</td>\n",
       "      <td>-19.760479</td>\n",
       "      <td>***</td>\n",
       "    </tr>\n",
       "  </tbody>\n",
       "</table>\n",
       "</div>"
      ],
      "text/plain": [
       "  cell_type  high_count  low_count  high_percent  low_percent  fold_change  \\\n",
       "0   Int-HSC         195         83     23.353293     9.940120     2.349398   \n",
       "1  MLin-HSC          50        135      5.988024    16.167665     0.370370   \n",
       "2   MgK-HSC         129         72     15.449102     8.622754     1.791667   \n",
       "3     p-HSC          96         15     11.497006     1.796407     6.400000   \n",
       "4     q-HSC         365        530     43.712575    63.473054     0.688679   \n",
       "\n",
       "   chi2_stat       p_value  significant  diff_percent stars  \n",
       "0  54.133796  1.872920e-13         True     13.413174   ***  \n",
       "1  43.919374  3.421849e-11         True    -10.179641   ***  \n",
       "2  18.375888  1.813383e-05         True      6.826347   ***  \n",
       "3  63.316575  1.760169e-15         True      9.700599   ***  \n",
       "4  65.548027  5.671488e-16         True    -19.760479   ***  "
      ]
     },
     "execution_count": 80,
     "metadata": {},
     "output_type": "execute_result"
    }
   ],
   "source": [
    "# Execute the tests\n",
    "results_df = run_chi2_tests(counts_df)\n",
    "results_df"
   ]
  },
  {
   "cell_type": "markdown",
   "id": "19adb05a",
   "metadata": {},
   "source": [
    "## Figure S2G"
   ]
  },
  {
   "cell_type": "code",
   "execution_count": 83,
   "id": "ce725f15",
   "metadata": {},
   "outputs": [
    {
     "data": {
      "image/png": "[encoded data removed]",
      "text/plain": [
       "<Figure size 800x640 with 1 Axes>"
      ]
     },
     "metadata": {
      "image/png": {
       "height": 620,
       "width": 782
      }
     },
     "output_type": "display_data"
    }
   ],
   "source": [
    "import matplotlib.pyplot as plt\n",
    "import numpy as np\n",
    "\n",
    "def plot_rawcounts_horizontal(results_df):\n",
    "    # Sort by total count to order bars\n",
    "    results_df = results_df.sort_values(by=['high_count', 'low_count'], ascending=False).reset_index(drop=True)\n",
    "    \n",
    "    # Set up the plot\n",
    "    plt.figure(figsize=(10, 8))\n",
    "    y = np.arange(len(results_df))\n",
    "    bar_height = 0.35\n",
    "\n",
    "    # Plot High (red) above Low (blue)\n",
    "    plt.barh(y + bar_height/2, results_df['high_count'], height=bar_height, label='High', color='#FF0000')\n",
    "    plt.barh(y - bar_height/2, results_df['low_count'], height=bar_height, label='Low', color='#0000FF')\n",
    "\n",
    "    # Axis labels and formatting\n",
    "    plt.xlabel('Cell Count')\n",
    "    plt.ylabel('Cell Type')\n",
    "    plt.yticks(y, results_df['cell_type'])\n",
    "    plt.title('Cell Type Counts by Group')\n",
    "    plt.legend()\n",
    "\n",
    "    # Remove top/right spines and gridlines\n",
    "    ax = plt.gca()\n",
    "    ax.spines['top'].set_visible(False)\n",
    "    ax.spines['right'].set_visible(False)\n",
    "    ax.grid(False)\n",
    "\n",
    "    # Add horizontal significance stars next to the larger bar\n",
    "    for i, row in results_df.iterrows():\n",
    "        if row['significant']:\n",
    "            high = row['high_count']\n",
    "            low = row['low_count']\n",
    "            max_count = max(high, low)\n",
    "            # Star is aligned horizontally next to the longer bar\n",
    "            plt.text(max_count + 5, i, row['stars'], va='center', ha='left', fontsize=14, fontweight='bold')\n",
    "\n",
    "    plt.tight_layout()\n",
    "    plt.show()\n",
    "\n",
    "# Run the updated function\n",
    "plot_rawcounts_horizontal(results_df)\n"
   ]
  }
 ],
 "metadata": {
  "kernelspec": {
   "display_name": "Python 3 (ipykernel)",
   "language": "python",
   "name": "python3"
  },
  "language_info": {
   "codemirror_mode": {
    "name": "ipython",
    "version": 3
   },
   "file_extension": ".py",
   "mimetype": "text/x-python",
   "name": "python",
   "nbconvert_exporter": "python",
   "pygments_lexer": "ipython3",
   "version": "3.12.7"
  }
 },
 "nbformat": 4,
 "nbformat_minor": 5
}
