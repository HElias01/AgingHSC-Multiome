{
 "cells": [
  {
   "cell_type": "markdown",
   "id": "7901eef5",
   "metadata": {},
   "source": [
    "# Scripts for reproducibility of ATAC analysis\n",
    "\n",
    "# Figures 3 and S11"
   ]
  },
  {
   "cell_type": "code",
   "execution_count": 26,
   "id": "06c19a1d",
   "metadata": {},
   "outputs": [],
   "source": [
    "import scanpy as sc\n",
    "import pandas as pd\n",
    "import numpy as np"
   ]
  },
  {
   "cell_type": "code",
   "execution_count": 27,
   "id": "a07c8f69",
   "metadata": {},
   "outputs": [
    {
     "name": "stdout",
     "output_type": "stream",
     "text": [
      "The rpy2.ipython extension is already loaded. To reload it, use:\n",
      "  %reload_ext rpy2.ipython\n"
     ]
    }
   ],
   "source": [
    "import os\n",
    "import rpy2\n",
    "#import anndata2ri\n",
    "\n",
    "os.environ['R_HOME'] = '/Library/Frameworks/R.framework/Resources'\n",
    "os.environ['R_USER'] = '/Library/Frameworks/R.framework/Resources'\n",
    "\n",
    "import anndata2ri\n",
    "\n",
    "# anndata2ri interconverts AnnData and Single Cell Experiment objects\n",
    "anndata2ri.activate()\n",
    "%load_ext rpy2.ipython"
   ]
  },
  {
   "cell_type": "code",
   "execution_count": null,
   "id": "dd2157d7",
   "metadata": {},
   "outputs": [],
   "source": [
    "%%R\n",
    "library(ArchR)\n",
    "library(rhdf5)\n",
    "library(biomaRt)\n",
    "library(dittoSeq)\n",
    "library(dplyr)\n",
    "library(Seurat)\n",
    "library(RColorBrewer)\n",
    "library(stringr)\n",
    "library(parallel)\n",
    "library(Seurat)\n",
    "library(reticulate)\n",
    "library(BSgenome.Mmusculus.UCSC.mm10)\n",
    "library(ggplot2)\n",
    "library(gplots)\n",
    "library(ComplexHeatmap)\n",
    "set.seed(16)"
   ]
  },
  {
   "cell_type": "markdown",
   "id": "e3d73043",
   "metadata": {},
   "source": [
    "## Step1: Read ArchR object (download from Zenodo)\n",
    "\n",
    "## Step2: Read \"HSC_multiome_cleanup_lognorm_083123.h5ad\" file (to retrieve cell barcodes and adata.obs columns of interest)\n",
    "\n",
    "## Step 3: Match RNA_adata cell barcodes to ArchR object to create scatac.object.subset"
   ]
  },
  {
   "cell_type": "markdown",
   "id": "7c7a179a",
   "metadata": {},
   "source": []
  },
  {
   "cell_type": "code",
   "execution_count": null,
   "id": "a6358261",
   "metadata": {},
   "outputs": [],
   "source": [
    "%%R -w 600 -h 600\n",
    "Harmony_age <- plotEmbedding(ArchRProj = scatac.object.subset, colorBy = \"cellColData\", name = \"age\", embedding = \"HARMONY_UMAP\",baseSize = 15, labelSize=5,legendSize=5)\n",
    "\n",
    "p<- Harmony_age + theme(panel.border = element_blank(),legend.text = element_text(size=15)) + geom_point(size = 1, stroke = 0.5) + scale_color_manual(values = c('#8FD694','#351431'))\n",
    "\n",
    "#ggsave(paste0(outbase, 'ArchR_age.pdf'), p, dpi = 300)\n",
    "p"
   ]
  },
  {
   "cell_type": "code",
   "execution_count": null,
   "id": "38cb9b92",
   "metadata": {},
   "outputs": [],
   "source": [
    "%%R -w 600 -h 600\n",
    "Harmony_Fraticelli <- plotEmbedding(ArchRProj = scatac.object.subset, colorBy = \"cellColData\", name = \"HSC_subsets\", embedding = \"HARMONY_UMAP\",baseSize = 15, labelSize=5,legendSize=5)\n",
    "\n",
    "p<- Harmony_Fraticelli + theme(panel.border = element_blank(),legend.text = element_text(size=15)) + geom_point(size = 0.5)+ scale_color_manual(values = c('#F6222E', '#16FF32', '#3283FE', '#FEAF16', '#D3D3D3'))\n",
    "\n",
    "#ggsave(paste0(outbase, 'ArchR_cell_type_subset.pdf'), p, dpi = 300)\n",
    "p"
   ]
  },
  {
   "cell_type": "code",
   "execution_count": null,
   "id": "e39dc375",
   "metadata": {},
   "outputs": [],
   "source": [
    "%%R -w 600 -h 600\n",
    "Clusters <- plotEmbedding(\n",
    "    ArchRProj = scatac.object.subset,\n",
    "    embedding = \"HARMONY_UMAP\",\n",
    "    colorBy = \"cellColData\",\n",
    "    name = c(\"Clusters\"), baseSize = 15, labelSize=5,legendSize=5) + geom_point(size = 0.5) + theme(panel.border = element_blank(),legend.text = element_text(size=15))\n",
    "\n",
    "#ggsave(paste0(outbase, 'ArchR_Seurat_Clusters.pdf'), Clusters, dpi = 300)\n",
    "Clusters"
   ]
  },
  {
   "cell_type": "markdown",
   "id": "37eaafe8",
   "metadata": {},
   "source": [
    "## Step 4: Create Confusion Matrix"
   ]
  },
  {
   "cell_type": "code",
   "execution_count": null,
   "id": "9737c3c0",
   "metadata": {},
   "outputs": [],
   "source": [
    "cM <- confusionMatrix(paste0(scatac.object.subset$Clusters), paste0(scatac.object.subset$lowhigh))\n",
    "library(pheatmap)\n",
    "\n",
    "cM <- cM / Matrix::rowSums(cM)\n",
    "colors <- brewer.pal(9, \"YlOrRd\")"
   ]
  },
  {
   "cell_type": "code",
   "execution_count": null,
   "id": "e2e2de9b",
   "metadata": {},
   "outputs": [],
   "source": [
    "%%R -w 600 -h 600\n",
    "p <- pheatmap::pheatmap(\n",
    "    mat = as.matrix(cM), \n",
    "    color = colors, \n",
    "    border_color = \"black\", \n",
    "    fontsize = 15,          # Main font size, also affects the legend\n",
    "    fontsize_row = 15,      # Row names font size\n",
    "    fontsize_col = 15 \n",
    ")\n",
    "#ggsave(paste0(outbase, 'Cluster_vs_Kit_correlationmatrix.pdf'), p, dpi = 300)\n",
    "\n",
    "%%R -w 600 -h 600\n",
    "p1 <- pheatmap::pheatmap(\n",
    "    mat = as.matrix(cM1), \n",
    "    color = colors, \n",
    "    border_color = \"black\", \n",
    "    fontsize = 15,          # Main font size, also affects the legend\n",
    "    fontsize_row = 15,      # Row names font size\n",
    "    fontsize_col = 15 \n",
    ")\n",
    "#ggsave(paste0(outbase, 'Cluster_vs_HSCsubset_correlationmatrix.pdf'), p1, dpi = 300)"
   ]
  },
  {
   "cell_type": "markdown",
   "id": "aa5801e9",
   "metadata": {},
   "source": [
    "## Step 5: Retrieve ArchR matrices to create an anndata object adata_atac for matrixplots"
   ]
  },
  {
   "cell_type": "code",
   "execution_count": null,
   "id": "edd5555a",
   "metadata": {},
   "outputs": [],
   "source": [
    "%%R \n",
    "getAvailableMatrices(scatac.object.subset)"
   ]
  },
  {
   "cell_type": "code",
   "execution_count": null,
   "id": "b144fe4a",
   "metadata": {},
   "outputs": [],
   "source": [
    "%%R\n",
    "# create a folder called \"export\" to save all the output\n",
    "#save LSI result as csv \n",
    "# save any metadata for each cell as csv\n",
    "# save the Harmony results:"
   ]
  },
  {
   "cell_type": "code",
   "execution_count": null,
   "id": "260098ca",
   "metadata": {},
   "outputs": [],
   "source": [
    "## Get genescore matrix and save as csv file \n",
    "# Peak counts\n",
    "# Reorder peaks based on Chromosome order"
   ]
  },
  {
   "cell_type": "code",
   "execution_count": null,
   "id": "ebbfe90a",
   "metadata": {},
   "outputs": [],
   "source": [
    "# Export counts\n",
    "# create a subfolder called \"peak_counts\"\n",
    "# get the peak counts\n",
    "# save as a mtx file (Recall: mtx is a representation for saving sparse matrices efficiently)\n",
    "# save cell names as csv\n",
    "# save peak names as csv\n",
    "# get Motif scores and save as csv "
   ]
  },
  {
   "cell_type": "markdown",
   "id": "3d52441e",
   "metadata": {},
   "source": []
  },
  {
   "cell_type": "code",
   "execution_count": null,
   "id": "aa4ff594",
   "metadata": {},
   "outputs": [],
   "source": [
    "import scanpy as sc\n",
    "import pandas as pd\n",
    "import numpy as np\n",
    "import matplotlib as mpl\n",
    "import matplotlib_venn\n",
    "from matplotlib.colors import LinearSegmentedColormap\n",
    "import scanpy.external as sce\n",
    "from matplotlib import cm, colors\n",
    "from pathlib import Path\n",
    "from bioinfokit import analys, visuz\n",
    "import matplotlib.pyplot as plt\n",
    "import scipy.stats\n",
    "import matplotlib.lines as lines"
   ]
  },
  {
   "cell_type": "code",
   "execution_count": null,
   "id": "cb08d9c2",
   "metadata": {},
   "outputs": [],
   "source": [
    "adata_Chromvar = sc.AnnData(X =adata_atac.obsm['ChromVar'],\n",
    "                       obs= adata_atac.obs,\n",
    "                       obsm= adata_atac.obsm,\n",
    "                       var=pd.DataFrame(index=adata_atac.uns['ChromVar_key']))"
   ]
  },
  {
   "cell_type": "code",
   "execution_count": null,
   "id": "beb69fb8",
   "metadata": {},
   "outputs": [],
   "source": [
    "adata_GeneScore = sc.AnnData(X =adata_atac.obsm['Gene_Scores'],\n",
    "                       obs= adata_atac.obs,\n",
    "                       obsm= adata_atac.obsm,\n",
    "                       var=pd.DataFrame(index=adata_atac.uns['Gene_Scores_key']))"
   ]
  },
  {
   "cell_type": "code",
   "execution_count": null,
   "id": "28f31c7d",
   "metadata": {},
   "outputs": [],
   "source": [
    "var_names1 = ['Zbtb1_182','Zbtb7a_808', 'Runx1_712', 'Runx2_713', 'Runx3_858','Gata2_383', 'Gata3_384', 'Bcl11a_795', 'Bcl11b_814']"
   ]
  },
  {
   "cell_type": "code",
   "execution_count": null,
   "id": "e3ad0a0e",
   "metadata": {},
   "outputs": [],
   "source": [
    "lowhigh_chromvar = adata_Chromvar[(adata_Chromvar.obs['lowhigh'] == 'Low')|(adata_Chromvar.obs['lowhigh'] == 'High')]\n",
    "\n",
    "sc.pl.matrixplot(\n",
    " lowhigh_chromvar,\n",
    "    var_names= ['Zbtb7a_808', 'Runx1_712', 'Runx2_713', 'Runx3_858','Gata2_383', 'Gata3_384', 'Bcl11a_795', 'Bcl11b_814'], \n",
    "    groupby='lowhigh',\n",
    "    colorbar_title=\"Motif-enrichment Score\", cmap='RdBu_r',vmin=-0.25, vmax=0.25, \n",
    "    swap_axes=True, #save='DE_Chromvar_lowvshigh_TF_matrixplot.pdf')"
   ]
  },
  {
   "cell_type": "code",
   "execution_count": null,
   "id": "6bd54622",
   "metadata": {},
   "outputs": [],
   "source": [
    "low_chromvar = adata_Chromvar[(adata_Chromvar.obs['agekit'] == 'young-Low')|(adata_Chromvar.obs['agekit'] == 'old-Low')]\n",
    "\n",
    "sc.pl.matrixplot(\n",
    " low_chromvar,\n",
    "    var_names=var_names1,\n",
    "    groupby='agekit',\n",
    "    colorbar_title=\"Motif-enrichment Score\",cmap='RdBu_r',vmin=-0.25, vmax=0.25, \n",
    "    swap_axes=True, #save='Chromvar_low_oldvsyoung_matrixplot.pdf')"
   ]
  },
  {
   "cell_type": "code",
   "execution_count": null,
   "id": "43e5485b",
   "metadata": {},
   "outputs": [],
   "source": [
    "var_names2 = ['Zbtb1', 'Zbtb7a', 'Ezh1','Ezh2', 'Runx1', 'Runx2', 'Runx3', 'Bcl11a']\n",
    "adata_GeneScore.layers[\"scaled\"] = sc.pp.scale(adata_GeneScore, copy=True).X"
   ]
  },
  {
   "cell_type": "code",
   "execution_count": null,
   "id": "89caaec0",
   "metadata": {},
   "outputs": [],
   "source": [
    "cluster_test3  = adata_GeneScore[(adata_GeneScore.obs['lowhigh'] == 'Low') | (adata_GeneScore.obs['lowhigh'] == 'High')]\n",
    "low = adata_GeneScore[(adata_GeneScore.obs['agekit'] == 'young-Low')|(adata_GeneScore.obs['agekit'] == 'old-Low')]\n",
    "\n",
    "sc.pl.matrixplot(\n",
    " cluster_test3,\n",
    "    var_names=var_names2,\n",
    "    groupby='lowhigh', layer='scaled',\n",
    "   cmap= 'RdBu_r', \n",
    "    swap_axes=True,\n",
    "    colorbar_title='Gene Accessibility scores',#save='GeneAccessibilityScore_lowvshigh_matrixplot.pdf' )\n",
    "\n",
    "\n",
    "sc.pl.matrixplot(\n",
    " low,\n",
    "    var_names=['Zbtb1', 'Zbtb7a', 'Ezh1'],\n",
    "    groupby='agekit',layer='scaled', vmin=-0.1, vmax=0.1,\n",
    "   cmap= 'RdBu_r', \n",
    "    swap_axes=True,\n",
    "    colorbar_title='Gene Accessibility scores', #save='GeneAccessibilityScore_low_oldvsyoung_matrixplot.pdf')"
   ]
  },
  {
   "cell_type": "code",
   "execution_count": null,
   "id": "4165ba97",
   "metadata": {},
   "outputs": [],
   "source": []
  },
  {
   "cell_type": "code",
   "execution_count": null,
   "id": "2b4befe4",
   "metadata": {},
   "outputs": [],
   "source": []
  }
 ],
 "metadata": {
  "kernelspec": {
   "display_name": "Python 3 (ipykernel)",
   "language": "python",
   "name": "python3"
  },
  "language_info": {
   "codemirror_mode": {
    "name": "ipython",
    "version": 3
   },
   "file_extension": ".py",
   "mimetype": "text/x-python",
   "name": "python",
   "nbconvert_exporter": "python",
   "pygments_lexer": "ipython3",
   "version": "3.12.7"
  }
 },
 "nbformat": 4,
 "nbformat_minor": 5
}
